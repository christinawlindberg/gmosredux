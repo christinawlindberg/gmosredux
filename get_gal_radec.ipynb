{
 "cells": [
  {
   "cell_type": "markdown",
   "metadata": {},
   "source": [
    "# Get the ra and dec for each galaxy in CGM$^2$"
   ]
  },
  {
   "cell_type": "code",
   "execution_count": 1,
   "metadata": {},
   "outputs": [],
   "source": [
    "from astropy.io import fits\n",
    "import glob\n",
    "import astropy\n",
    "from astropy.table import Table"
   ]
  },
  {
   "cell_type": "markdown",
   "metadata": {},
   "source": [
    "Lets see what a mask file looks like"
   ]
  },
  {
   "cell_type": "code",
   "execution_count": 46,
   "metadata": {},
   "outputs": [
    {
     "data": {
      "text/html": [
       "<i>Table masked=True length=29</i>\n",
       "<table id=\"table4675585808\" class=\"table-striped table-bordered table-condensed\">\n",
       "<thead><tr><th>ID</th><th>RA</th><th>DEC</th><th>x_ccd</th><th>y_ccd</th><th>specpos_x</th><th>specpos_y</th><th>slitpos_x</th><th>slitpos_y</th><th>slitsize_x</th><th>slitsize_y</th><th>slittilt</th><th>MAG</th><th>priority</th><th>wave_ccd</th><th>slitpos_mx</th><th>slitpos_my</th><th>slitid</th><th>slitsize_mx</th><th>slitsize_my</th><th>slittilt_m</th><th>slitsize_mr</th><th>slitsize_mw</th><th>slittype</th></tr></thead>\n",
       "<thead><tr><th>#</th><th>H</th><th>deg</th><th>pixels</th><th>pixels</th><th>pixels</th><th>pixels</th><th>arcsec</th><th>arcsec</th><th>arcsec</th><th>arcsec</th><th>deg</th><th>#</th><th>c</th><th>pixels</th><th></th><th></th><th></th><th></th><th></th><th></th><th></th><th></th><th></th></tr></thead>\n",
       "<thead><tr><th>int32</th><th>float32</th><th>float32</th><th>float32</th><th>float32</th><th>float32</th><th>float32</th><th>float32</th><th>float32</th><th>float32</th><th>float32</th><th>float32</th><th>float32</th><th>bytes1</th><th>float32</th><th>float32</th><th>float32</th><th>int32</th><th>float32</th><th>float32</th><th>float32</th><th>float32</th><th>float32</th><th>bytes9</th></tr></thead>\n",
       "<tr><td>8402</td><td>15.91586</td><td>36.44961</td><td>1640.308</td><td>2031.486</td><td>-531.5807</td><td>0</td><td>0</td><td>0</td><td>1</td><td>4.999988</td><td>0</td><td>22.11</td><td>3</td><td>1630.275</td><td>7.708351</td><td>80.461403</td><td>1</td><td>0.620562</td><td>3.102800</td><td>90.000</td><td>0.000000</td><td>0.000000</td><td>rectangle</td></tr>\n",
       "<tr><td>10179</td><td>15.91584</td><td>36.46675</td><td>1857.719</td><td>1668.213</td><td>-652.6873</td><td>11.26489</td><td>0</td><td>1.640168</td><td>1</td><td>8.280325</td><td>0</td><td>22.94</td><td>3</td><td>1822.884</td><td>27.385361</td><td>48.634869</td><td>2</td><td>0.620562</td><td>5.138451</td><td>90.000</td><td>0.000000</td><td>0.000000</td><td>rectangle</td></tr>\n",
       "<tr><td>10432</td><td>15.91578</td><td>36.47084</td><td>1922.676</td><td>1588.977</td><td>-688.871</td><td>2.985718</td><td>0</td><td>0.434721</td><td>1</td><td>5.869411</td><td>0</td><td>20.14</td><td>1</td><td>1880.431</td><td>33.260738</td><td>40.723991</td><td>3</td><td>0.620562</td><td>3.642331</td><td>90.000</td><td>0.000000</td><td>0.000000</td><td>rectangle</td></tr>\n",
       "<tr><td>10468</td><td>15.91549</td><td>36.48791</td><td>2209.24</td><td>1267.729</td><td>-848.4985</td><td>10.33997</td><td>0</td><td>1.505499</td><td>1</td><td>8.010986</td><td>0</td><td>21.73</td><td>1</td><td>2134.305</td><td>59.162830</td><td>12.371220</td><td>4</td><td>0.620562</td><td>4.971310</td><td>90.000</td><td>0.000000</td><td>0.000000</td><td>rectangle</td></tr>\n",
       "<tr><td>10850</td><td>15.91596</td><td>36.46321</td><td>1783.126</td><td>1726.079</td><td>-611.1361</td><td>8.943115</td><td>0</td><td>1.302118</td><td>1</td><td>7.604241</td><td>0</td><td>21.99</td><td>3</td><td>1756.801</td><td>20.636499</td><td>53.653278</td><td>5</td><td>0.620562</td><td>4.718899</td><td>90.000</td><td>0.000000</td><td>0.000000</td><td>rectangle</td></tr>\n",
       "<tr><td>12694</td><td>15.91561</td><td>36.47775</td><td>2053.872</td><td>1467.839</td><td>-761.952</td><td>15.41199</td><td>0</td><td>2.243985</td><td>1</td><td>9.487977</td><td>0</td><td>19.74</td><td>1</td><td>1996.66</td><td>45.119610</td><td>30.912050</td><td>6</td><td>0.620562</td><td>5.887873</td><td>90.000</td><td>0.000000</td><td>0.000000</td><td>rectangle</td></tr>\n",
       "<tr><td>15368</td><td>15.91632</td><td>36.45673</td><td>1608.902</td><td>1810.431</td><td>-514.0863</td><td>-7.082153</td><td>0</td><td>-1.031162</td><td>1</td><td>7.71241</td><td>0</td><td>23.34</td><td>3</td><td>1602.452</td><td>4.860494</td><td>59.834629</td><td>7</td><td>0.620562</td><td>4.786025</td><td>90.000</td><td>0.000000</td><td>0.000000</td><td>rectangle</td></tr>\n",
       "<tr><td>15922</td><td>15.91644</td><td>36.46432</td><td>1671.82</td><td>1630.284</td><td>-549.1342</td><td>1.296143</td><td>0</td><td>0.188718</td><td>1</td><td>5.377425</td><td>0</td><td>22.1</td><td>3</td><td>1658.193</td><td>10.557590</td><td>44.281681</td><td>8</td><td>0.620562</td><td>3.337023</td><td>90.000</td><td>0.000000</td><td>0.000000</td><td>rectangle</td></tr>\n",
       "<tr><td>18992</td><td>15.91635</td><td>36.49154</td><td>2032.206</td><td>1062.126</td><td>-749.8833</td><td>8.419678</td><td>0</td><td>1.225905</td><td>1</td><td>7.451798</td><td>0</td><td>22.67</td><td>1</td><td>1977.466</td><td>43.165730</td><td>-6.491331</td><td>9</td><td>0.620562</td><td>4.624299</td><td>90.000</td><td>0.000000</td><td>0.000000</td><td>rectangle</td></tr>\n",
       "<tr><td>...</td><td>...</td><td>...</td><td>...</td><td>...</td><td>...</td><td>...</td><td>...</td><td>...</td><td>...</td><td>...</td><td>...</td><td>...</td><td>...</td><td>...</td><td>...</td><td>...</td><td>...</td><td>...</td><td>...</td><td>...</td><td>...</td><td>...</td><td>...</td></tr>\n",
       "<tr><td>40581</td><td>15.91822</td><td>36.48163</td><td>1427.987</td><td>995.8959</td><td>-413.3096</td><td>15.01624</td><td>0</td><td>2.186364</td><td>1</td><td>9.623614</td><td>0</td><td>22.84</td><td>1</td><td>1442.176</td><td>-11.568490</td><td>-11.953180</td><td>20</td><td>0.620562</td><td>5.972044</td><td>90.000</td><td>0.000000</td><td>0.000000</td><td>rectangle</td></tr>\n",
       "<tr><td>45098</td><td>15.9185</td><td>36.49516</td><td>1520.931</td><td>663.8039</td><td>-465.0833</td><td>35.42975</td><td>0</td><td>5.158572</td><td>1</td><td>15.31716</td><td>0</td><td>23.16</td><td>1</td><td>1524.517</td><td>-3.152574</td><td>-40.210800</td><td>21</td><td>0.620562</td><td>9.505239</td><td>90.000</td><td>0.000000</td><td>0.000000</td><td>rectangle</td></tr>\n",
       "<tr><td>45719</td><td>15.91913</td><td>36.45998</td><td>926.4556</td><td>1323.745</td><td>-133.9369</td><td>7.325928</td><td>0</td><td>1.066655</td><td>1</td><td>7.133316</td><td>0</td><td>23.17</td><td>3</td><td>997.8586</td><td>-56.967041</td><td>17.118019</td><td>22</td><td>0.620562</td><td>4.426661</td><td>90.000</td><td>0.000000</td><td>0.000000</td><td>rectangle</td></tr>\n",
       "<tr><td>49253</td><td>15.91887</td><td>36.49958</td><td>1479.986</td><td>513.9956</td><td>-442.275</td><td>57.2359</td><td>0</td><td>8.333548</td><td>1</td><td>21.66709</td><td>0</td><td>21.37</td><td>3</td><td>1488.243</td><td>-6.867776</td><td>-51.799419</td><td>23</td><td>0.620562</td><td>13.445761</td><td>90.000</td><td>0.000000</td><td>0.000000</td><td>rectangle</td></tr>\n",
       "<tr><td>57789</td><td>15.91977</td><td>36.47948</td><td>1000.765</td><td>810.6188</td><td>-175.3301</td><td>5.524414</td><td>0</td><td>0.804355</td><td>1</td><td>6.608724</td><td>0</td><td>22.22</td><td>1</td><td>1063.691</td><td>-50.259270</td><td>-29.543209</td><td>24</td><td>0.620562</td><td>4.101120</td><td>90.000</td><td>0.000000</td><td>0.000000</td><td>rectangle</td></tr>\n",
       "<tr><td>58238</td><td>15.91971</td><td>36.47772</td><td>994.1127</td><td>857.0042</td><td>-171.6245</td><td>6.329651</td><td>0</td><td>0.921597</td><td>1</td><td>6.843192</td><td>0</td><td>19.41</td><td>1</td><td>1057.797</td><td>-50.861389</td><td>-25.267570</td><td>25</td><td>0.620562</td><td>4.246622</td><td>90.000</td><td>0.000000</td><td>0.000000</td><td>rectangle</td></tr>\n",
       "<tr><td>59055</td><td>15.91922</td><td>36.51082</td><td>1531.005</td><td>222.955</td><td>-470.6945</td><td>17.66965</td><td>0</td><td>2.572701</td><td>1</td><td>52.1857</td><td>0</td><td>21.36</td><td>3</td><td>1533.442</td><td>-2.257930</td><td>-81.695770</td><td>26</td><td>0.620562</td><td>32.384438</td><td>90.000</td><td>0.000000</td><td>0.000000</td><td>rectangle</td></tr>\n",
       "<tr><td>11119030</td><td>15.91431</td><td>36.47269</td><td>2326</td><td>1769</td><td>-913.5383</td><td>0</td><td>0</td><td>0</td><td>2</td><td>2</td><td>0</td><td>18.11</td><td>0</td><td>2237.744</td><td>69.652618</td><td>56.835381</td><td>27</td><td>1.241123</td><td>1.241123</td><td>90.000</td><td>0.000000</td><td>0.000000</td><td>rectangle</td></tr>\n",
       "<tr><td>11119031</td><td>15.91495</td><td>36.50557</td><td>2566</td><td>970</td><td>-1047.228</td><td>0</td><td>0</td><td>0</td><td>2</td><td>2</td><td>0</td><td>16.69</td><td>0</td><td>2450.365</td><td>91.414482</td><td>-15.497500</td><td>28</td><td>1.241123</td><td>1.241123</td><td>90.000</td><td>0.000000</td><td>0.000000</td><td>rectangle</td></tr>\n",
       "<tr><td>11119032</td><td>15.91683</td><td>36.4862</td><td>1841</td><td>1104</td><td>-643.3741</td><td>0</td><td>0</td><td>0</td><td>2</td><td>2</td><td>0</td><td>17.3</td><td>0</td><td>1808.073</td><td>25.867640</td><td>-3.512797</td><td>29</td><td>1.241123</td><td>1.241123</td><td>90.000</td><td>0.000000</td><td>0.000000</td><td>rectangle</td></tr>\n",
       "</table>"
      ],
      "text/plain": [
       "<Table masked=True length=29>\n",
       "     ID            RA             DEC       ... slitsize_mw  slittype\n",
       "     #             H              deg       ...                      \n",
       "   int32        float32         float32     ...   float32     bytes9 \n",
       "----------- --------------- --------------- ... ----------- ---------\n",
       "       8402        15.91586        36.44961 ...    0.000000 rectangle\n",
       "      10179        15.91584        36.46675 ...    0.000000 rectangle\n",
       "      10432        15.91578        36.47084 ...    0.000000 rectangle\n",
       "      10468        15.91549        36.48791 ...    0.000000 rectangle\n",
       "      10850        15.91596        36.46321 ...    0.000000 rectangle\n",
       "      12694        15.91561        36.47775 ...    0.000000 rectangle\n",
       "      15368        15.91632        36.45673 ...    0.000000 rectangle\n",
       "      15922        15.91644        36.46432 ...    0.000000 rectangle\n",
       "      18992        15.91635        36.49154 ...    0.000000 rectangle\n",
       "        ...             ...             ... ...         ...       ...\n",
       "      40581        15.91822        36.48163 ...    0.000000 rectangle\n",
       "      45098         15.9185        36.49516 ...    0.000000 rectangle\n",
       "      45719        15.91913        36.45998 ...    0.000000 rectangle\n",
       "      49253        15.91887        36.49958 ...    0.000000 rectangle\n",
       "      57789        15.91977        36.47948 ...    0.000000 rectangle\n",
       "      58238        15.91971        36.47772 ...    0.000000 rectangle\n",
       "      59055        15.91922        36.51082 ...    0.000000 rectangle\n",
       "   11119030        15.91431        36.47269 ...    0.000000 rectangle\n",
       "   11119031        15.91495        36.50557 ...    0.000000 rectangle\n",
       "   11119032        15.91683         36.4862 ...    0.000000 rectangle"
      ]
     },
     "execution_count": 46,
     "metadata": {},
     "output_type": "execute_result"
    }
   ],
   "source": [
    "file = glob.glob(\"gn*fits\")[0]\n",
    "mdf = Table.read(file)\n",
    "mdf"
   ]
  },
  {
   "cell_type": "code",
   "execution_count": 48,
   "metadata": {},
   "outputs": [],
   "source": [
    "def get_radec(file):\n",
    "    \"\"\" get the RA, DEC from a mask file. Put it into\n",
    "    an astropy Table object.\n",
    "    \"\"\"\n",
    "    mdf = Table.read(file)\n",
    "    ID = mdf['ID']\n",
    "    ra = mdf['RA']\n",
    "    dec = mdf['DEC']\n",
    "    radec_tab = Table([ID, ra, dec])\n",
    "    return radec_tab"
   ]
  },
  {
   "cell_type": "code",
   "execution_count": 49,
   "metadata": {},
   "outputs": [],
   "source": [
    "file_names = glob.glob(\"/Users/mwilde/Dropbox/COS-Gemini/gemini_data.G*/raw*/G*.fits\")"
   ]
  },
  {
   "cell_type": "code",
   "execution_count": 50,
   "metadata": {},
   "outputs": [],
   "source": [
    "radec_list = []\n",
    "for file in file_names:\n",
    "    radec = get_radec(file)\n",
    "    radec_list.append(radec)\n",
    "\n",
    "radec_tab = astropy.table.vstack(radec_list)"
   ]
  },
  {
   "cell_type": "code",
   "execution_count": 51,
   "metadata": {},
   "outputs": [
    {
     "data": {
      "text/plain": [
       "<Table masked=True length=3044>\n",
       "name  dtype  unit  format \n",
       "---- ------- ---- --------\n",
       "  ID   int32    #   {:11d}\n",
       "  RA float32    H {:15.7g}\n",
       " DEC float32  deg {:15.7g}"
      ]
     },
     "execution_count": 51,
     "metadata": {},
     "output_type": "execute_result"
    }
   ],
   "source": [
    "radec_tab.info"
   ]
  },
  {
   "cell_type": "code",
   "execution_count": 52,
   "metadata": {},
   "outputs": [],
   "source": [
    "radec_tab.write('cgmsquared_gal_radec.txt', format='ascii', overwrite=True)"
   ]
  },
  {
   "cell_type": "code",
   "execution_count": 53,
   "metadata": {},
   "outputs": [
    {
     "data": {
      "text/html": [
       "<i>Table masked=True length=3044</i>\n",
       "<table id=\"table4432427272\" class=\"table-striped table-bordered table-condensed\">\n",
       "<thead><tr><th>ID</th><th>RA</th><th>DEC</th></tr></thead>\n",
       "<thead><tr><th>#</th><th>H</th><th>deg</th></tr></thead>\n",
       "<thead><tr><th>int32</th><th>float32</th><th>float32</th></tr></thead>\n",
       "<tr><td>146</td><td>9.591402</td><td>2.08156</td></tr>\n",
       "<tr><td>159</td><td>9.591022</td><td>2.06473</td></tr>\n",
       "<tr><td>293</td><td>9.59142</td><td>2.10502</td></tr>\n",
       "<tr><td>343</td><td>9.590647</td><td>2.04932</td></tr>\n",
       "<tr><td>393</td><td>9.591168</td><td>2.10232</td></tr>\n",
       "<tr><td>432</td><td>9.59091</td><td>2.09427</td></tr>\n",
       "<tr><td>456</td><td>9.590219</td><td>2.04628</td></tr>\n",
       "<tr><td>480</td><td>9.5904</td><td>2.07028</td></tr>\n",
       "<tr><td>497</td><td>9.590591</td><td>2.09556</td></tr>\n",
       "<tr><td>...</td><td>...</td><td>...</td></tr>\n",
       "<tr><td>1262</td><td>10.99795</td><td>14.73664</td></tr>\n",
       "<tr><td>1302</td><td>10.99618</td><td>14.72374</td></tr>\n",
       "<tr><td>1322</td><td>10.99794</td><td>14.73782</td></tr>\n",
       "<tr><td>1369</td><td>10.99691</td><td>14.73359</td></tr>\n",
       "<tr><td>1375</td><td>10.99312</td><td>14.73507</td></tr>\n",
       "<tr><td>1424</td><td>10.99487</td><td>14.73169</td></tr>\n",
       "<tr><td>1486</td><td>10.99663</td><td>14.72989</td></tr>\n",
       "<tr><td>1496</td><td>10.99589</td><td>14.7277</td></tr>\n",
       "<tr><td>1501</td><td>10.99769</td><td>14.72536</td></tr>\n",
       "<tr><td>1503</td><td>10.99334</td><td>14.72659</td></tr>\n",
       "</table>"
      ],
      "text/plain": [
       "<Table masked=True length=3044>\n",
       "     ID            RA             DEC      \n",
       "     #             H              deg      \n",
       "   int32        float32         float32    \n",
       "----------- --------------- ---------------\n",
       "        146        9.591402         2.08156\n",
       "        159        9.591022         2.06473\n",
       "        293         9.59142         2.10502\n",
       "        343        9.590647         2.04932\n",
       "        393        9.591168         2.10232\n",
       "        432         9.59091         2.09427\n",
       "        456        9.590219         2.04628\n",
       "        480          9.5904         2.07028\n",
       "        497        9.590591         2.09556\n",
       "        ...             ...             ...\n",
       "       1262        10.99795        14.73664\n",
       "       1302        10.99618        14.72374\n",
       "       1322        10.99794        14.73782\n",
       "       1369        10.99691        14.73359\n",
       "       1375        10.99312        14.73507\n",
       "       1424        10.99487        14.73169\n",
       "       1486        10.99663        14.72989\n",
       "       1496        10.99589         14.7277\n",
       "       1501        10.99769        14.72536\n",
       "       1503        10.99334        14.72659"
      ]
     },
     "execution_count": 53,
     "metadata": {},
     "output_type": "execute_result"
    }
   ],
   "source": [
    "radec_tab"
   ]
  },
  {
   "cell_type": "code",
   "execution_count": null,
   "metadata": {},
   "outputs": [],
   "source": []
  }
 ],
 "metadata": {
  "kernelspec": {
   "display_name": "Python 3",
   "language": "python",
   "name": "python3"
  },
  "language_info": {
   "codemirror_mode": {
    "name": "ipython",
    "version": 3
   },
   "file_extension": ".py",
   "mimetype": "text/x-python",
   "name": "python",
   "nbconvert_exporter": "python",
   "pygments_lexer": "ipython3",
   "version": "3.6.6"
  }
 },
 "nbformat": 4,
 "nbformat_minor": 2
}
