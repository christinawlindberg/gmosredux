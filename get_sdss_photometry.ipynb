{
 "cells": [
  {
   "cell_type": "markdown",
   "metadata": {},
   "source": [
    "# Get SDSS photometry for CGM$^2$ galaxy catalog\n",
    "\n",
    "I am going to try `astroquery`"
   ]
  },
  {
   "cell_type": "code",
   "execution_count": 1,
   "metadata": {},
   "outputs": [
    {
     "name": "stderr",
     "output_type": "stream",
     "text": [
      "/anaconda3/lib/python3.6/site-packages/astroquery/sdss/__init__.py:29: UserWarning: Experimental: SDSS has not yet been refactored to have its API match the rest of astroquery (but it's nearly there).\n",
      "  warnings.warn(\"Experimental: SDSS has not yet been refactored to have its API \"\n"
     ]
    }
   ],
   "source": [
    "from astroquery.sdss import SDSS\n",
    "from astropy import coordinates as coords\n",
    "from astropy.table import Table\n",
    "import astropy.units as u\n",
    "import astropy\n",
    "import numpy as np"
   ]
  },
  {
   "cell_type": "markdown",
   "metadata": {},
   "source": [
    "#### Read the CGM$^2$ galaxy `ra` and `dec` from an `ascii` table I made"
   ]
  },
  {
   "cell_type": "code",
   "execution_count": 2,
   "metadata": {},
   "outputs": [
    {
     "data": {
      "text/html": [
       "<i>Table length=3044</i>\n",
       "<table id=\"table4616534168\" class=\"table-striped table-bordered table-condensed\">\n",
       "<thead><tr><th>col1</th><th>col2</th></tr></thead>\n",
       "<thead><tr><th>float64</th><th>float64</th></tr></thead>\n",
       "<tr><td>9.591402053833008</td><td>2.081559896469116</td></tr>\n",
       "<tr><td>9.591021537780762</td><td>2.064729928970337</td></tr>\n",
       "<tr><td>9.59142017364502</td><td>2.105020046234131</td></tr>\n",
       "<tr><td>9.590646743774414</td><td>2.0493199825286865</td></tr>\n",
       "<tr><td>9.591168403625488</td><td>2.1023199558258057</td></tr>\n",
       "<tr><td>9.590909957885742</td><td>2.0942699909210205</td></tr>\n",
       "<tr><td>9.590218544006348</td><td>2.0462799072265625</td></tr>\n",
       "<tr><td>9.590399742126465</td><td>2.070280075073242</td></tr>\n",
       "<tr><td>9.590591430664062</td><td>2.095560073852539</td></tr>\n",
       "<tr><td>9.590082168579102</td><td>2.062079906463623</td></tr>\n",
       "<tr><td>...</td><td>...</td></tr>\n",
       "<tr><td>10.997950553894043</td><td>14.736639976501465</td></tr>\n",
       "<tr><td>10.99618148803711</td><td>14.723739624023438</td></tr>\n",
       "<tr><td>10.997944831848145</td><td>14.73781967163086</td></tr>\n",
       "<tr><td>10.996908187866211</td><td>14.733590126037598</td></tr>\n",
       "<tr><td>10.993117332458496</td><td>14.73507022857666</td></tr>\n",
       "<tr><td>10.994867324829102</td><td>14.731690406799316</td></tr>\n",
       "<tr><td>10.996631622314453</td><td>14.729889869689941</td></tr>\n",
       "<tr><td>10.995885848999023</td><td>14.727700233459473</td></tr>\n",
       "<tr><td>10.997694969177246</td><td>14.725359916687012</td></tr>\n",
       "<tr><td>10.993340492248535</td><td>14.726590156555176</td></tr>\n",
       "</table>"
      ],
      "text/plain": [
       "<Table length=3044>\n",
       "       col1               col2       \n",
       "     float64            float64      \n",
       "------------------ ------------------\n",
       " 9.591402053833008  2.081559896469116\n",
       " 9.591021537780762  2.064729928970337\n",
       "  9.59142017364502  2.105020046234131\n",
       " 9.590646743774414 2.0493199825286865\n",
       " 9.591168403625488 2.1023199558258057\n",
       " 9.590909957885742 2.0942699909210205\n",
       " 9.590218544006348 2.0462799072265625\n",
       " 9.590399742126465  2.070280075073242\n",
       " 9.590591430664062  2.095560073852539\n",
       " 9.590082168579102  2.062079906463623\n",
       "               ...                ...\n",
       "10.997950553894043 14.736639976501465\n",
       " 10.99618148803711 14.723739624023438\n",
       "10.997944831848145  14.73781967163086\n",
       "10.996908187866211 14.733590126037598\n",
       "10.993117332458496  14.73507022857666\n",
       "10.994867324829102 14.731690406799316\n",
       "10.996631622314453 14.729889869689941\n",
       "10.995885848999023 14.727700233459473\n",
       "10.997694969177246 14.725359916687012\n",
       "10.993340492248535 14.726590156555176"
      ]
     },
     "execution_count": 2,
     "metadata": {},
     "output_type": "execute_result"
    }
   ],
   "source": [
    "cgmsqrd_radec_table = Table.read('cgmsquared_gal_radec.txt', format='ascii')\n",
    "cgmsqrd_radec_table"
   ]
  },
  {
   "cell_type": "markdown",
   "metadata": {},
   "source": [
    "#### Convert the units to degrees. RA starts off in hourangle"
   ]
  },
  {
   "cell_type": "code",
   "execution_count": 3,
   "metadata": {},
   "outputs": [],
   "source": [
    "ra = (cgmsqrd_radec_table['col1']*u.hourangle).to(u.degree)\n",
    "dec = cgmsqrd_radec_table['col2']*u.degree"
   ]
  },
  {
   "cell_type": "code",
   "execution_count": 4,
   "metadata": {},
   "outputs": [
    {
     "data": {
      "text/plain": [
       "<SkyCoord (ICRS): (ra, dec) in deg\n",
       "    [(143.87103081,  2.0815599 ), (143.86532307,  2.06472993),\n",
       "     (143.8713026 ,  2.10502005), ..., (164.93828773, 14.72770023),\n",
       "     (164.96542454, 14.72535992), (164.90010738, 14.72659016)]>"
      ]
     },
     "execution_count": 4,
     "metadata": {},
     "output_type": "execute_result"
    }
   ],
   "source": [
    "pos = coords.SkyCoord(ra, dec, frame='icrs')\n",
    "pos"
   ]
  },
  {
   "cell_type": "markdown",
   "metadata": {},
   "source": [
    "#### What fields do we want from SDSS? dered?\n",
    "\n",
    "http://cas.sdss.org/dr7/en/help/browser/description.asp?n=PhotoObj&t=V"
   ]
  },
  {
   "cell_type": "code",
   "execution_count": 5,
   "metadata": {},
   "outputs": [],
   "source": [
    "fields = ['ra', 'dec', 'u', 'err_u', 'g', \n",
    "          'err_g', 'r', 'err_r', \n",
    "          'i', 'err_i', 'z', 'err_z']\n",
    "\n",
    "# add the dereddened mags just in case\n",
    "dered_fields = ['dered_u', 'dered_g, ''dered_r', 'dered_i', 'dered_z']\n",
    "\n",
    "fields += dered_fields"
   ]
  },
  {
   "cell_type": "markdown",
   "metadata": {},
   "source": [
    "#### Run on one object to see how this works"
   ]
  },
  {
   "cell_type": "code",
   "execution_count": 6,
   "metadata": {},
   "outputs": [],
   "source": [
    "sql_query = SDSS.query_crossid(pos, photoobj_fields=fields, get_query_payload=True)"
   ]
  },
  {
   "cell_type": "code",
   "execution_count": 7,
   "metadata": {},
   "outputs": [],
   "source": [
    "# This will take too long and result in a broken pipe\n",
    "# xid = SDSS.query_crossid(pos, photoobj_fields=['u', 'g', 'r', 'i', 'z'], timeout=100000)"
   ]
  },
  {
   "cell_type": "markdown",
   "metadata": {},
   "source": [
    "#### Have to run a query on each object (!!!) since cant authorize with casjobs yet. Outputs to a list of tables"
   ]
  },
  {
   "cell_type": "code",
   "execution_count": 8,
   "metadata": {},
   "outputs": [
    {
     "name": "stderr",
     "output_type": "stream",
     "text": [
      "/anaconda3/lib/python3.6/site-packages/astroquery/sdss/core.py:856: VisibleDeprecationWarning: Reading unicode strings without specifying the encoding argument is deprecated. Set the encoding, use None for the system default.\n",
      "  comments='#'))\n"
     ]
    }
   ],
   "source": [
    "out_table = []\n",
    "for coord in pos:\n",
    "    xid = SDSS.query_crossid(coord, photoobj_fields=fields)\n",
    "    out_table.append(xid)"
   ]
  },
  {
   "cell_type": "markdown",
   "metadata": {},
   "source": [
    "In order to combine all the tables, need to get rid of the `None` elements in the list which come when there is no object in sdss. Convert to numpy as array, remove the Nones, convert back to list and stack all of em up. "
   ]
  },
  {
   "cell_type": "code",
   "execution_count": 9,
   "metadata": {},
   "outputs": [
    {
     "name": "stderr",
     "output_type": "stream",
     "text": [
      "/anaconda3/lib/python3.6/site-packages/astropy/table/table.py:2653: FutureWarning: elementwise == comparison failed and returning scalar instead; this will raise an error or perform elementwise comparison in the future.\n",
      "  result = self.as_array() == other\n"
     ]
    },
    {
     "ename": "NameError",
     "evalue": "name 'astropy' is not defined",
     "output_type": "error",
     "traceback": [
      "\u001b[0;31m---------------------------------------------------------------------------\u001b[0m",
      "\u001b[0;31mNameError\u001b[0m                                 Traceback (most recent call last)",
      "\u001b[0;32m<ipython-input-9-7b01b1d28f25>\u001b[0m in \u001b[0;36m<module>\u001b[0;34m()\u001b[0m\n\u001b[1;32m      1\u001b[0m \u001b[0mnp_outtable\u001b[0m \u001b[0;34m=\u001b[0m \u001b[0mnp\u001b[0m\u001b[0;34m.\u001b[0m\u001b[0masarray\u001b[0m\u001b[0;34m(\u001b[0m\u001b[0mout_table\u001b[0m\u001b[0;34m)\u001b[0m\u001b[0;34m\u001b[0m\u001b[0m\n\u001b[1;32m      2\u001b[0m \u001b[0mgood_elements\u001b[0m \u001b[0;34m=\u001b[0m \u001b[0mnp_outtable\u001b[0m\u001b[0;34m[\u001b[0m\u001b[0;34m~\u001b[0m\u001b[0;34m(\u001b[0m\u001b[0mnp_outtable\u001b[0m \u001b[0;34m==\u001b[0m \u001b[0;32mNone\u001b[0m\u001b[0;34m)\u001b[0m\u001b[0;34m]\u001b[0m\u001b[0;34m\u001b[0m\u001b[0m\n\u001b[0;32m----> 3\u001b[0;31m \u001b[0mastropy\u001b[0m\u001b[0;34m.\u001b[0m\u001b[0mtable\u001b[0m\u001b[0;34m.\u001b[0m\u001b[0mvstack\u001b[0m\u001b[0;34m(\u001b[0m\u001b[0;34m[\u001b[0m\u001b[0mgood_elements\u001b[0m\u001b[0;34m[\u001b[0m\u001b[0;36m2\u001b[0m\u001b[0;34m]\u001b[0m\u001b[0;34m,\u001b[0m \u001b[0mgood_elements\u001b[0m\u001b[0;34m[\u001b[0m\u001b[0;36m3\u001b[0m\u001b[0;34m]\u001b[0m\u001b[0;34m]\u001b[0m\u001b[0;34m)\u001b[0m\u001b[0;34m\u001b[0m\u001b[0m\n\u001b[0m",
      "\u001b[0;31mNameError\u001b[0m: name 'astropy' is not defined"
     ]
    }
   ],
   "source": [
    "np_outtable = np.asarray(out_table)\n",
    "good_elements = np_outtable[~(np_outtable == None)]\n",
    "astropy.table.vstack([good_elements[2], good_elements[3]])"
   ]
  },
  {
   "cell_type": "code",
   "execution_count": null,
   "metadata": {},
   "outputs": [],
   "source": [
    "sdss_ugriz_table = astropy.table.vstack(good_elements.tolist(), join_type='exact')"
   ]
  },
  {
   "cell_type": "markdown",
   "metadata": {},
   "source": [
    "Save the file so we dont have to do this again"
   ]
  },
  {
   "cell_type": "code",
   "execution_count": null,
   "metadata": {},
   "outputs": [],
   "source": [
    "sdss_ugriz_table.write(\"sdss_ugriz_table.fits\", overwrite=True)"
   ]
  }
 ],
 "metadata": {
  "kernelspec": {
   "display_name": "Python 3",
   "language": "python",
   "name": "python3"
  },
  "language_info": {
   "codemirror_mode": {
    "name": "ipython",
    "version": 3
   },
   "file_extension": ".py",
   "mimetype": "text/x-python",
   "name": "python",
   "nbconvert_exporter": "python",
   "pygments_lexer": "ipython3",
   "version": "3.6.6"
  }
 },
 "nbformat": 4,
 "nbformat_minor": 2
}
