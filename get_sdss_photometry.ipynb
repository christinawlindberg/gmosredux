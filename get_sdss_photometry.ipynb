{
 "cells": [
  {
   "cell_type": "markdown",
   "metadata": {},
   "source": [
    "# Get SDSS photometry for CGM$^2$ galaxy catalog\n",
    "\n",
    "I am going to try `astroquery`"
   ]
  },
  {
   "cell_type": "code",
   "execution_count": 14,
   "metadata": {},
   "outputs": [],
   "source": [
    "from astroquery.sdss import SDSS\n",
    "from astropy import coordinates as coords\n",
    "from astropy.table import Table\n",
    "import astropy.units as u\n",
    "import astropy\n",
    "import numpy as np"
   ]
  },
  {
   "cell_type": "markdown",
   "metadata": {},
   "source": [
    "#### Read the CGM$^2$ galaxy `ra` and `dec` from an `ascii` table I made"
   ]
  },
  {
   "cell_type": "code",
   "execution_count": 15,
   "metadata": {},
   "outputs": [
    {
     "data": {
      "text/html": [
       "<i>Table length=3044</i>\n",
       "<table id=\"table4691606104\" class=\"table-striped table-bordered table-condensed\">\n",
       "<thead><tr><th>ID</th><th>RA</th><th>DEC</th></tr></thead>\n",
       "<thead><tr><th>int64</th><th>float64</th><th>float64</th></tr></thead>\n",
       "<tr><td>146</td><td>9.591402</td><td>2.08156</td></tr>\n",
       "<tr><td>159</td><td>9.591022</td><td>2.06473</td></tr>\n",
       "<tr><td>293</td><td>9.59142</td><td>2.10502</td></tr>\n",
       "<tr><td>343</td><td>9.590647</td><td>2.04932</td></tr>\n",
       "<tr><td>393</td><td>9.591168</td><td>2.10232</td></tr>\n",
       "<tr><td>432</td><td>9.59091</td><td>2.09427</td></tr>\n",
       "<tr><td>456</td><td>9.590219</td><td>2.04628</td></tr>\n",
       "<tr><td>480</td><td>9.5904</td><td>2.07028</td></tr>\n",
       "<tr><td>497</td><td>9.590591</td><td>2.09556</td></tr>\n",
       "<tr><td>528</td><td>9.590082</td><td>2.06208</td></tr>\n",
       "<tr><td>...</td><td>...</td><td>...</td></tr>\n",
       "<tr><td>1262</td><td>10.99795</td><td>14.73664</td></tr>\n",
       "<tr><td>1302</td><td>10.99618</td><td>14.72374</td></tr>\n",
       "<tr><td>1322</td><td>10.99794</td><td>14.73782</td></tr>\n",
       "<tr><td>1369</td><td>10.99691</td><td>14.73359</td></tr>\n",
       "<tr><td>1375</td><td>10.99312</td><td>14.73507</td></tr>\n",
       "<tr><td>1424</td><td>10.99487</td><td>14.73169</td></tr>\n",
       "<tr><td>1486</td><td>10.99663</td><td>14.72989</td></tr>\n",
       "<tr><td>1496</td><td>10.99589</td><td>14.7277</td></tr>\n",
       "<tr><td>1501</td><td>10.99769</td><td>14.72536</td></tr>\n",
       "<tr><td>1503</td><td>10.99334</td><td>14.72659</td></tr>\n",
       "</table>"
      ],
      "text/plain": [
       "<Table length=3044>\n",
       "  ID     RA      DEC   \n",
       "int64 float64  float64 \n",
       "----- -------- --------\n",
       "  146 9.591402  2.08156\n",
       "  159 9.591022  2.06473\n",
       "  293  9.59142  2.10502\n",
       "  343 9.590647  2.04932\n",
       "  393 9.591168  2.10232\n",
       "  432  9.59091  2.09427\n",
       "  456 9.590219  2.04628\n",
       "  480   9.5904  2.07028\n",
       "  497 9.590591  2.09556\n",
       "  528 9.590082  2.06208\n",
       "  ...      ...      ...\n",
       " 1262 10.99795 14.73664\n",
       " 1302 10.99618 14.72374\n",
       " 1322 10.99794 14.73782\n",
       " 1369 10.99691 14.73359\n",
       " 1375 10.99312 14.73507\n",
       " 1424 10.99487 14.73169\n",
       " 1486 10.99663 14.72989\n",
       " 1496 10.99589  14.7277\n",
       " 1501 10.99769 14.72536\n",
       " 1503 10.99334 14.72659"
      ]
     },
     "execution_count": 15,
     "metadata": {},
     "output_type": "execute_result"
    }
   ],
   "source": [
    "cgmsqrd_radec_table = Table.read('cgmsquared_gal_radec.txt', format='ascii')\n",
    "cgmsqrd_radec_table"
   ]
  },
  {
   "cell_type": "markdown",
   "metadata": {},
   "source": [
    "#### Convert the units to degrees. RA starts off in hourangle"
   ]
  },
  {
   "cell_type": "code",
   "execution_count": 16,
   "metadata": {},
   "outputs": [],
   "source": [
    "ra = (cgmsqrd_radec_table['RA']*u.hourangle).to(u.degree)\n",
    "dec = cgmsqrd_radec_table['DEC']*u.degree"
   ]
  },
  {
   "cell_type": "code",
   "execution_count": 17,
   "metadata": {},
   "outputs": [
    {
     "data": {
      "text/plain": [
       "<SkyCoord (ICRS): (ra, dec) in deg\n",
       "    [(143.87103,  2.08156), (143.86533,  2.06473), (143.8713 ,  2.10502),\n",
       "     ..., (164.93835, 14.7277 ), (164.96535, 14.72536),\n",
       "     (164.9001 , 14.72659)]>"
      ]
     },
     "execution_count": 17,
     "metadata": {},
     "output_type": "execute_result"
    }
   ],
   "source": [
    "pos = coords.SkyCoord(ra, dec, frame='icrs')\n",
    "pos"
   ]
  },
  {
   "cell_type": "markdown",
   "metadata": {},
   "source": [
    "#### What fields do we want from SDSS? dered?\n",
    "\n",
    "http://cas.sdss.org/dr7/en/help/browser/description.asp?n=PhotoObj&t=V"
   ]
  },
  {
   "cell_type": "code",
   "execution_count": 18,
   "metadata": {},
   "outputs": [],
   "source": [
    "fields = ['ra', 'dec', 'u', 'err_u', 'g', \n",
    "          'err_g', 'r', 'err_r', \n",
    "          'i', 'err_i', 'z', 'err_z']\n",
    "\n",
    "# add the dereddened mags just in case\n",
    "dered_fields = ['dered_u', 'dered_g, ''dered_r', 'dered_i', 'dered_z']\n",
    "\n",
    "fields += dered_fields"
   ]
  },
  {
   "cell_type": "markdown",
   "metadata": {},
   "source": [
    "#### Run on one object to see how this works"
   ]
  },
  {
   "cell_type": "code",
   "execution_count": 6,
   "metadata": {},
   "outputs": [],
   "source": [
    "sql_query = SDSS.query_crossid(pos, photoobj_fields=fields, get_query_payload=True)"
   ]
  },
  {
   "cell_type": "code",
   "execution_count": 7,
   "metadata": {},
   "outputs": [],
   "source": [
    "# This will take too long and result in a broken pipe\n",
    "# xid = SDSS.query_crossid(pos, photoobj_fields=['u', 'g', 'r', 'i', 'z'], timeout=100000)"
   ]
  },
  {
   "cell_type": "markdown",
   "metadata": {},
   "source": [
    "#### Have to run a query on each object (!!!) since cant authorize with casjobs yet. Outputs to a list of tables"
   ]
  },
  {
   "cell_type": "code",
   "execution_count": 8,
   "metadata": {},
   "outputs": [
    {
     "name": "stderr",
     "output_type": "stream",
     "text": [
      "/anaconda3/lib/python3.6/site-packages/astroquery/sdss/core.py:856: VisibleDeprecationWarning: Reading unicode strings without specifying the encoding argument is deprecated. Set the encoding, use None for the system default.\n",
      "  comments='#'))\n"
     ]
    }
   ],
   "source": [
    "out_table = []\n",
    "for coord in pos:\n",
    "    xid = SDSS.query_crossid(coord, photoobj_fields=fields)\n",
    "    out_table.append(xid)"
   ]
  },
  {
   "cell_type": "markdown",
   "metadata": {},
   "source": [
    "In order to combine all the tables, need to get rid of the `None` elements in the list which come when there is no object in sdss. Convert to numpy as array, remove the Nones, convert back to list and stack all of em up. "
   ]
  },
  {
   "cell_type": "code",
   "execution_count": 11,
   "metadata": {},
   "outputs": [
    {
     "name": "stderr",
     "output_type": "stream",
     "text": [
      "/anaconda3/lib/python3.6/site-packages/astropy/table/table.py:2653: FutureWarning: elementwise == comparison failed and returning scalar instead; this will raise an error or perform elementwise comparison in the future.\n",
      "  result = self.as_array() == other\n"
     ]
    },
    {
     "data": {
      "text/html": [
       "<i>Table length=2</i>\n",
       "<table id=\"table4691605376\" class=\"table-striped table-bordered table-condensed\">\n",
       "<thead><tr><th>obj_id</th><th>objID</th><th>ra</th><th>dec</th><th>u</th><th>err_u</th><th>g</th><th>err_g</th><th>r</th><th>err_r</th><th>i</th><th>err_i</th><th>z</th><th>err_z</th><th>dered_u</th><th>dered_g</th><th>dered_r</th><th>dered_i</th><th>dered_z</th><th>obj_id1</th><th>type</th></tr></thead>\n",
       "<thead><tr><th>bytes5</th><th>int64</th><th>float64</th><th>float64</th><th>float64</th><th>float64</th><th>float64</th><th>float64</th><th>float64</th><th>float64</th><th>float64</th><th>float64</th><th>float64</th><th>float64</th><th>float64</th><th>float64</th><th>float64</th><th>float64</th><th>float64</th><th>int64</th><th>bytes6</th></tr></thead>\n",
       "<tr><td>obj_0</td><td>1237651753994486409</td><td>143.859394665831</td><td>2.04948945809487</td><td>23.28284</td><td>0.800755</td><td>22.65892</td><td>0.1988366</td><td>22.73966</td><td>0.3241725</td><td>22.74787</td><td>0.4746296</td><td>21.3777</td><td>0.6201465</td><td>23.06783</td><td>22.50072</td><td>22.62492</td><td>22.66087</td><td>21.31602</td><td>1237651753994486409</td><td>GALAXY</td></tr>\n",
       "<tr><td>obj_0</td><td>1237651753994486683</td><td>143.850890875506</td><td>2.06218521755712</td><td>22.61179</td><td>0.5367773</td><td>22.64256</td><td>0.2250924</td><td>22.74952</td><td>0.3831772</td><td>21.28734</td><td>0.155536</td><td>21.06413</td><td>0.5619511</td><td>22.39552</td><td>22.48343</td><td>22.6341</td><td>21.19983</td><td>21.00208</td><td>1237651753994486683</td><td>GALAXY</td></tr>\n",
       "</table>"
      ],
      "text/plain": [
       "<Table length=2>\n",
       "obj_id        objID               ra        ...       obj_id1        type \n",
       "bytes5        int64            float64      ...        int64        bytes6\n",
       "------ ------------------- ---------------- ... ------------------- ------\n",
       " obj_0 1237651753994486409 143.859394665831 ... 1237651753994486409 GALAXY\n",
       " obj_0 1237651753994486683 143.850890875506 ... 1237651753994486683 GALAXY"
      ]
     },
     "execution_count": 11,
     "metadata": {},
     "output_type": "execute_result"
    }
   ],
   "source": [
    "np_outtable = np.asarray(out_table)\n",
    "good_elements = np_outtable[~(np_outtable == None)]\n",
    "\n",
    "# do this once to see if it works\n",
    "astropy.table.vstack([good_elements[2], good_elements[3]])"
   ]
  },
  {
   "cell_type": "code",
   "execution_count": 12,
   "metadata": {},
   "outputs": [],
   "source": [
    "sdss_ugriz_table = astropy.table.vstack(good_elements.tolist(), join_type='exact')"
   ]
  },
  {
   "cell_type": "markdown",
   "metadata": {},
   "source": [
    "Save the file so we dont have to do this again"
   ]
  },
  {
   "cell_type": "code",
   "execution_count": 13,
   "metadata": {},
   "outputs": [],
   "source": [
    "sdss_ugriz_table.write(\"sdss_ugriz_table.fits\", overwrite=True)"
   ]
  },
  {
   "cell_type": "code",
   "execution_count": null,
   "metadata": {},
   "outputs": [],
   "source": []
  }
 ],
 "metadata": {
  "kernelspec": {
   "display_name": "Python 3",
   "language": "python",
   "name": "python3"
  },
  "language_info": {
   "codemirror_mode": {
    "name": "ipython",
    "version": 3
   },
   "file_extension": ".py",
   "mimetype": "text/x-python",
   "name": "python",
   "nbconvert_exporter": "python",
   "pygments_lexer": "ipython3",
   "version": "3.6.6"
  }
 },
 "nbformat": 4,
 "nbformat_minor": 2
}
