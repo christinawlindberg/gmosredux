{
 "cells": [
  {
   "cell_type": "markdown",
   "metadata": {},
   "source": [
    "# Make a table of Absorption lines"
   ]
  },
  {
   "cell_type": "code",
   "execution_count": 1,
   "metadata": {},
   "outputs": [],
   "source": [
    "%matplotlib inline\n",
    "import pandas as pd\n",
    "import numpy as np\n",
    "from astropy.table import Table, vstack\n",
    "from matplotlib import pyplot as plt\n",
    "\n",
    "from pyigm.igm import igmsightline\n",
    "from cgmsquared import io\n",
    "\n",
    "import yaml\n",
    "\n",
    "from astropy.io import fits\n",
    "from astropy.wcs import WCS\n",
    "import astropy.units as u\n",
    "from astropy.coordinates import SkyCoord"
   ]
  },
  {
   "cell_type": "code",
   "execution_count": 2,
   "metadata": {},
   "outputs": [],
   "source": [
    "data_path = \"/Users/mwilde/Dropbox/IGM_spectra/Completed_QSOs/\"\n",
    "abs_file = 'J0809+4619_werksquad.json'"
   ]
  },
  {
   "cell_type": "markdown",
   "metadata": {},
   "source": [
    "### Read in the json file"
   ]
  },
  {
   "cell_type": "code",
   "execution_count": 3,
   "metadata": {},
   "outputs": [
    {
     "name": "stdout",
     "output_type": "stream",
     "text": [
      "read_sets: Using set file -- \n",
      "  /Users/mwilde/linetools/linetools/lists/sets/llist_v1.2.ascii\n",
      "Loading abundances from Asplund2009\n",
      "Abundances are relative by number on a logarithmic scale with H=12\n",
      "Loading abundances from Asplund2009\n",
      "Abundances are relative by number on a logarithmic scale with H=12\n",
      "AbsComp coordinates do not match.  Best to set them\n",
      "AbsComp coordinates do not match.  Best to set them\n",
      "AbsComp coordinates do not match.  Best to set them\n"
     ]
    }
   ],
   "source": [
    "qso = igmsightline.IGMSightline.from_json(data_path+abs_file)"
   ]
  },
  {
   "cell_type": "markdown",
   "metadata": {},
   "source": [
    "### Make the igmsystems\n",
    "\n",
    "Use the component list to generate a list of IGMSystems"
   ]
  },
  {
   "cell_type": "code",
   "execution_count": 4,
   "metadata": {},
   "outputs": [],
   "source": [
    "abssys = qso.make_igmsystems()"
   ]
  },
  {
   "cell_type": "markdown",
   "metadata": {},
   "source": [
    "### Since these are raw werksquad files, we need to artificially set the error and the flag to get a column density"
   ]
  },
  {
   "cell_type": "code",
   "execution_count": 5,
   "metadata": {},
   "outputs": [],
   "source": [
    "ion_species = []\n",
    "for a in abssys:\n",
    "    for c in a._components:\n",
    "        # comp = abssys[0]._components[0]\n",
    "        for absline in c._abslines:\n",
    "            absline.attrib['flag_N'] = 1\n",
    "            absline.attrib['sig_N'] = np.array([1e13,1e13])/u.cm**2\n",
    "        c.synthesize_colm(overwrite=True)\n",
    "    a.update_component_colm(overwrite=True)\n",
    "    \n",
    "    # Fills the ionN Table from the list of components\n",
    "    a.fill_ionN()\n",
    "    ion_species.append(a._ionN)\n",
    "    \n"
   ]
  },
  {
   "cell_type": "markdown",
   "metadata": {},
   "source": [
    "### Make a table of all the absorption systems"
   ]
  },
  {
   "cell_type": "code",
   "execution_count": 6,
   "metadata": {},
   "outputs": [
    {
     "data": {
      "text/html": [
       "<i>Table length=123</i>\n",
       "<table id=\"table120855279600\" class=\"table-striped table-bordered table-condensed\">\n",
       "<thead><tr><th>RA</th><th>DEC</th><th>comp_name</th><th>Z</th><th>ion</th><th>Ej</th><th>vmin</th><th>vmax</th><th>ion_name</th><th>flag_N</th><th>logN</th><th>sig_logN [2]</th><th>b</th><th>sig_b</th><th>vel</th><th>sig_vel</th><th>comment</th><th>reliability</th><th>z_sys</th></tr></thead>\n",
       "<thead><tr><th>deg</th><th>deg</th><th></th><th></th><th></th><th>1 / cm</th><th>km / s</th><th>km / s</th><th></th><th></th><th></th><th></th><th>km / s</th><th>km / s</th><th>km / s</th><th>km / s</th><th></th><th></th><th></th></tr></thead>\n",
       "<thead><tr><th>float64</th><th>float64</th><th>str15</th><th>int64</th><th>int64</th><th>float64</th><th>float64</th><th>float64</th><th>str5</th><th>int64</th><th>float64</th><th>float64</th><th>float64</th><th>float64</th><th>float64</th><th>float64</th><th>str51</th><th>str1</th><th>float64</th></tr></thead>\n",
       "<tr><td>122.2839</td><td>46.3238</td><td>z-0.00023_OI</td><td>8</td><td>1</td><td>0.0</td><td>-42.65575012791966</td><td>42.65575012791082</td><td>OI</td><td>1</td><td>14.64</td><td>0.009949111803676972 .. 0.009949111803676972</td><td>0.0</td><td>0.0</td><td>0.0</td><td>0.0</td><td></td><td>a</td><td>-0.00023045480505031152</td></tr>\n",
       "<tr><td>122.2839</td><td>46.3238</td><td>z-0.00018_SiIII</td><td>14</td><td>3</td><td>0.0</td><td>-127.14694749670068</td><td>127.14694749607868</td><td>SiIII</td><td>1</td><td>14.11</td><td>0.03371198393451511 .. 0.03371198393451511</td><td>0.0</td><td>0.0</td><td>0.0</td><td>0.0</td><td></td><td>a</td><td>-0.00023045480505031152</td></tr>\n",
       "<tr><td>122.2839</td><td>46.3238</td><td>z-0.00015_CII</td><td>6</td><td>2</td><td>0.0</td><td>-123.8657359484213</td><td>123.86573594784647</td><td>CII</td><td>1</td><td>15.77</td><td>0.00073753784719136 .. 0.00073753784719136</td><td>0.0</td><td>0.0</td><td>0.0</td><td>0.0</td><td></td><td>a</td><td>-0.00023045480505031152</td></tr>\n",
       "<tr><td>122.2839</td><td>46.3238</td><td>z-0.00013_FeII</td><td>26</td><td>2</td><td>0.0</td><td>-92.69422623981966</td><td>92.69422623956984</td><td>FeII</td><td>1</td><td>15.04</td><td>0.0016169950339052527 .. 0.0016169950339052527</td><td>0.0</td><td>0.0</td><td>0.0</td><td>0.0</td><td></td><td>a</td><td>-0.00023045480505031152</td></tr>\n",
       "<tr><td>122.2839</td><td>46.3238</td><td>z-0.00013_SiIV</td><td>14</td><td>4</td><td>0.0</td><td>-77.9287742722147</td><td>77.92877427211964</td><td>SiIV</td><td>1</td><td>13.51</td><td>0.09490067762745767 .. 0.09490067762745767</td><td>0.0</td><td>0.0</td><td>0.0</td><td>0.0</td><td></td><td>a</td><td>-0.00023045480505031152</td></tr>\n",
       "<tr><td>122.2839</td><td>46.3238</td><td>z-0.00010_CIV</td><td>6</td><td>4</td><td>0.0</td><td>-80.38968293335732</td><td>80.38968293342103</td><td>CIV</td><td>1</td><td>14.06</td><td>0.026746644999065664 .. 0.026746644999065664</td><td>0.0</td><td>0.0</td><td>0.0</td><td>0.0</td><td></td><td>a</td><td>-0.00023045480505031152</td></tr>\n",
       "<tr><td>122.2839</td><td>46.3238</td><td>z-0.00010_SiII</td><td>14</td><td>2</td><td>0.0</td><td>-117.30331285181728</td><td>117.30331285181211</td><td>SiII</td><td>1</td><td>14.98</td><td>0.002033758163159027 .. 0.002033758163159027</td><td>0.0</td><td>0.0</td><td>0.0</td><td>0.0</td><td></td><td>a</td><td>-0.00023045480505031152</td></tr>\n",
       "<tr><td>122.2839</td><td>46.3238</td><td>z-0.00008_SII</td><td>16</td><td>2</td><td>0.0</td><td>-70.54604828849811</td><td>70.54604828849995</td><td>SII</td><td>1</td><td>15.51</td><td>0.0007748607881054352 .. 0.0007748607881054352</td><td>0.0</td><td>0.0</td><td>0.0</td><td>0.0</td><td></td><td>a</td><td>-0.00023045480505031152</td></tr>\n",
       "<tr><td>122.2839</td><td>46.3238</td><td>z-0.00007_AlII</td><td>13</td><td>2</td><td>0.0</td><td>-95.15513490077376</td><td>95.15513490073388</td><td>AlII</td><td>1</td><td>14.08</td><td>0.03612304160369293 .. 0.03612304160369293</td><td>0.0</td><td>0.0</td><td>0.0</td><td>0.0</td><td>AlII  and blend</td><td>a</td><td>-0.00023045480505031152</td></tr>\n",
       "<tr><td>...</td><td>...</td><td>...</td><td>...</td><td>...</td><td>...</td><td>...</td><td>...</td><td>...</td><td>...</td><td>...</td><td>...</td><td>...</td><td>...</td><td>...</td><td>...</td><td>...</td><td>...</td><td>...</td></tr>\n",
       "<tr><td>122.2839</td><td>46.3238</td><td>z0.65627_NIV</td><td>7</td><td>4</td><td>0.0</td><td>-38.55423569251285</td><td>38.554235692513856</td><td>NIV</td><td>1</td><td>13.74</td><td>0.07902860416089248 .. 0.07902860416089248</td><td>0.0</td><td>0.0</td><td>0.0</td><td>0.0</td><td></td><td>a</td><td>0.6562107040329883</td></tr>\n",
       "<tr><td>122.2839</td><td>46.3238</td><td>z0.65630_CIII</td><td>6</td><td>3</td><td>0.0</td><td>-37.73393280549469</td><td>37.7339328054707</td><td>CIII</td><td>1</td><td>13.34</td><td>0.19851087849288754 .. 0.19851087849288754</td><td>0.0</td><td>0.0</td><td>0.0</td><td>0.0</td><td></td><td>a</td><td>0.6562107040329883</td></tr>\n",
       "<tr><td>122.2839</td><td>46.3238</td><td>z0.65632_OIV</td><td>8</td><td>4</td><td>0.0</td><td>-33.63241837006188</td><td>33.63241837010605</td><td>OIV</td><td>1</td><td>14.51</td><td>0.01342098253791476 .. 0.01342098253791476</td><td>0.0</td><td>0.0</td><td>0.0</td><td>0.0</td><td></td><td>a</td><td>0.6562107040329883</td></tr>\n",
       "<tr><td>122.2839</td><td>46.3238</td><td>z0.65640_OVI</td><td>8</td><td>6</td><td>0.0</td><td>-105.81907243275296</td><td>105.81907243273868</td><td>OVI</td><td>1</td><td>15.37</td><td>0.0013099940209709377 .. 0.0013099940209709377</td><td>0.0</td><td>0.0</td><td>0.0</td><td>0.0</td><td></td><td>a</td><td>0.6562107040329883</td></tr>\n",
       "<tr><td>122.2839</td><td>46.3238</td><td>z0.65669_CIII</td><td>6</td><td>3</td><td>0.0</td><td>-41.83544724089951</td><td>41.83544724082065</td><td>CIII</td><td>1</td><td>13.89</td><td>0.05594796716146652 .. 0.05594796716146652</td><td>0.0</td><td>0.0</td><td>0.0</td><td>0.0</td><td></td><td>a</td><td>0.6562107040329883</td></tr>\n",
       "<tr><td>122.2839</td><td>46.3238</td><td>z0.65671_SVI</td><td>16</td><td>6</td><td>0.0</td><td>-40.194841466692694</td><td>40.19484146662189</td><td>SVI</td><td>1</td><td>13.18</td><td>0.20289405103557717 .. 0.20289405103557717</td><td>0.0</td><td>0.0</td><td>0.0</td><td>0.0</td><td></td><td>a</td><td>0.6562107040329883</td></tr>\n",
       "<tr><td>122.2839</td><td>46.3238</td><td>z0.65672_HI</td><td>1</td><td>1</td><td>0.0</td><td>-52.49938477284659</td><td>52.49938477280138</td><td>HI</td><td>1</td><td>14.74</td><td>0.0027940830954937238 .. 0.0027940830954937238</td><td>0.0</td><td>0.0</td><td>0.0</td><td>0.0</td><td></td><td>a</td><td>0.6562107040329883</td></tr>\n",
       "<tr><td>122.2839</td><td>46.3238</td><td>z0.65675_OIV</td><td>8</td><td>4</td><td>0.0</td><td>-45.93696167621099</td><td>45.93696167622205</td><td>OIV</td><td>1</td><td>14.49</td><td>0.014053493958343146 .. 0.014053493958343146</td><td>0.0</td><td>0.0</td><td>0.0</td><td>0.0</td><td></td><td>a</td><td>0.6562107040329883</td></tr>\n",
       "<tr><td>122.2839</td><td>46.3238</td><td>z0.65677_NIV</td><td>7</td><td>4</td><td>0.0</td><td>-59.06180786947855</td><td>59.061807869444934</td><td>NIV</td><td>1</td><td>13.79</td><td>0.07043431759779603 .. 0.07043431759779603</td><td>0.0</td><td>0.0</td><td>0.0</td><td>0.0</td><td></td><td>a</td><td>0.6562107040329883</td></tr>\n",
       "<tr><td>122.2839</td><td>46.3238</td><td>z0.65763_HI</td><td>1</td><td>1</td><td>0.0</td><td>-50.85877899865633</td><td>50.858778998647395</td><td>HI</td><td>1</td><td>13.63</td><td>0.07198952590326298 .. 0.07198952590326298</td><td>0.0</td><td>0.0</td><td>0.0</td><td>0.0</td><td></td><td>b</td><td>0.657625273920309</td></tr>\n",
       "</table>"
      ],
      "text/plain": [
       "<Table length=123>\n",
       "   RA      DEC      comp_name    ... reliability          z_sys         \n",
       "  deg      deg                   ...                                    \n",
       "float64  float64      str15      ...     str1            float64        \n",
       "-------- ------- --------------- ... ----------- -----------------------\n",
       "122.2839 46.3238    z-0.00023_OI ...           a -0.00023045480505031152\n",
       "122.2839 46.3238 z-0.00018_SiIII ...           a -0.00023045480505031152\n",
       "122.2839 46.3238   z-0.00015_CII ...           a -0.00023045480505031152\n",
       "122.2839 46.3238  z-0.00013_FeII ...           a -0.00023045480505031152\n",
       "122.2839 46.3238  z-0.00013_SiIV ...           a -0.00023045480505031152\n",
       "122.2839 46.3238   z-0.00010_CIV ...           a -0.00023045480505031152\n",
       "122.2839 46.3238  z-0.00010_SiII ...           a -0.00023045480505031152\n",
       "122.2839 46.3238   z-0.00008_SII ...           a -0.00023045480505031152\n",
       "122.2839 46.3238  z-0.00007_AlII ...           a -0.00023045480505031152\n",
       "     ...     ...             ... ...         ...                     ...\n",
       "122.2839 46.3238    z0.65627_NIV ...           a      0.6562107040329883\n",
       "122.2839 46.3238   z0.65630_CIII ...           a      0.6562107040329883\n",
       "122.2839 46.3238    z0.65632_OIV ...           a      0.6562107040329883\n",
       "122.2839 46.3238    z0.65640_OVI ...           a      0.6562107040329883\n",
       "122.2839 46.3238   z0.65669_CIII ...           a      0.6562107040329883\n",
       "122.2839 46.3238    z0.65671_SVI ...           a      0.6562107040329883\n",
       "122.2839 46.3238     z0.65672_HI ...           a      0.6562107040329883\n",
       "122.2839 46.3238    z0.65675_OIV ...           a      0.6562107040329883\n",
       "122.2839 46.3238    z0.65677_NIV ...           a      0.6562107040329883\n",
       "122.2839 46.3238     z0.65763_HI ...           b       0.657625273920309"
      ]
     },
     "execution_count": 6,
     "metadata": {},
     "output_type": "execute_result"
    }
   ],
   "source": [
    "abssysTable = vstack([ion_species[i]for i in range(len(ion_species))])\n",
    "abssysTable"
   ]
  },
  {
   "cell_type": "code",
   "execution_count": 7,
   "metadata": {},
   "outputs": [
    {
     "data": {
      "text/html": [
       "<i>Table length=123</i>\n",
       "<table id=\"table4609670112\" class=\"table-striped table-bordered table-condensed\">\n",
       "<thead><tr><th>RA</th><th>DEC</th><th>comp_name</th><th>Z</th><th>ion</th><th>Ej</th><th>vmin</th><th>vmax</th><th>ion_name</th><th>flag_N</th><th>logN</th><th>sig_logN [2]</th><th>b</th><th>sig_b</th><th>vel</th><th>sig_vel</th><th>comment</th><th>reliability</th><th>z_sys</th></tr></thead>\n",
       "<thead><tr><th>deg</th><th>deg</th><th></th><th></th><th></th><th>1 / cm</th><th>km / s</th><th>km / s</th><th></th><th></th><th></th><th></th><th>km / s</th><th>km / s</th><th>km / s</th><th>km / s</th><th></th><th></th><th></th></tr></thead>\n",
       "<thead><tr><th>float64</th><th>float64</th><th>str15</th><th>int64</th><th>int64</th><th>float64</th><th>float64</th><th>float64</th><th>str5</th><th>int64</th><th>float64</th><th>float64</th><th>float64</th><th>float64</th><th>float64</th><th>float64</th><th>str51</th><th>str1</th><th>float64</th></tr></thead>\n",
       "<tr><td>122.2839</td><td>46.3238</td><td>z-0.00023_OI</td><td>8</td><td>1</td><td>0.0</td><td>-42.65575012791966</td><td>42.65575012791082</td><td>OI</td><td>1</td><td>14.64</td><td>0.009949111803676972 .. 0.009949111803676972</td><td>0.0</td><td>0.0</td><td>0.0</td><td>0.0</td><td></td><td>a</td><td>-0.00023045480505031152</td></tr>\n",
       "<tr><td>122.2839</td><td>46.3238</td><td>z-0.00018_SiIII</td><td>14</td><td>3</td><td>0.0</td><td>-127.14694749670068</td><td>127.14694749607868</td><td>SiIII</td><td>1</td><td>14.11</td><td>0.03371198393451511 .. 0.03371198393451511</td><td>0.0</td><td>0.0</td><td>0.0</td><td>0.0</td><td></td><td>a</td><td>-0.00023045480505031152</td></tr>\n",
       "<tr><td>122.2839</td><td>46.3238</td><td>z-0.00015_CII</td><td>6</td><td>2</td><td>0.0</td><td>-123.8657359484213</td><td>123.86573594784647</td><td>CII</td><td>1</td><td>15.77</td><td>0.00073753784719136 .. 0.00073753784719136</td><td>0.0</td><td>0.0</td><td>0.0</td><td>0.0</td><td></td><td>a</td><td>-0.00023045480505031152</td></tr>\n",
       "<tr><td>122.2839</td><td>46.3238</td><td>z-0.00013_FeII</td><td>26</td><td>2</td><td>0.0</td><td>-92.69422623981966</td><td>92.69422623956984</td><td>FeII</td><td>1</td><td>15.04</td><td>0.0016169950339052527 .. 0.0016169950339052527</td><td>0.0</td><td>0.0</td><td>0.0</td><td>0.0</td><td></td><td>a</td><td>-0.00023045480505031152</td></tr>\n",
       "<tr><td>122.2839</td><td>46.3238</td><td>z-0.00013_SiIV</td><td>14</td><td>4</td><td>0.0</td><td>-77.9287742722147</td><td>77.92877427211964</td><td>SiIV</td><td>1</td><td>13.51</td><td>0.09490067762745767 .. 0.09490067762745767</td><td>0.0</td><td>0.0</td><td>0.0</td><td>0.0</td><td></td><td>a</td><td>-0.00023045480505031152</td></tr>\n",
       "<tr><td>122.2839</td><td>46.3238</td><td>z-0.00010_CIV</td><td>6</td><td>4</td><td>0.0</td><td>-80.38968293335732</td><td>80.38968293342103</td><td>CIV</td><td>1</td><td>14.06</td><td>0.026746644999065664 .. 0.026746644999065664</td><td>0.0</td><td>0.0</td><td>0.0</td><td>0.0</td><td></td><td>a</td><td>-0.00023045480505031152</td></tr>\n",
       "<tr><td>122.2839</td><td>46.3238</td><td>z-0.00010_SiII</td><td>14</td><td>2</td><td>0.0</td><td>-117.30331285181728</td><td>117.30331285181211</td><td>SiII</td><td>1</td><td>14.98</td><td>0.002033758163159027 .. 0.002033758163159027</td><td>0.0</td><td>0.0</td><td>0.0</td><td>0.0</td><td></td><td>a</td><td>-0.00023045480505031152</td></tr>\n",
       "<tr><td>122.2839</td><td>46.3238</td><td>z-0.00008_SII</td><td>16</td><td>2</td><td>0.0</td><td>-70.54604828849811</td><td>70.54604828849995</td><td>SII</td><td>1</td><td>15.51</td><td>0.0007748607881054352 .. 0.0007748607881054352</td><td>0.0</td><td>0.0</td><td>0.0</td><td>0.0</td><td></td><td>a</td><td>-0.00023045480505031152</td></tr>\n",
       "<tr><td>122.2839</td><td>46.3238</td><td>z-0.00007_AlII</td><td>13</td><td>2</td><td>0.0</td><td>-95.15513490077376</td><td>95.15513490073388</td><td>AlII</td><td>1</td><td>14.08</td><td>0.03612304160369293 .. 0.03612304160369293</td><td>0.0</td><td>0.0</td><td>0.0</td><td>0.0</td><td>AlII  and blend</td><td>a</td><td>-0.00023045480505031152</td></tr>\n",
       "<tr><td>...</td><td>...</td><td>...</td><td>...</td><td>...</td><td>...</td><td>...</td><td>...</td><td>...</td><td>...</td><td>...</td><td>...</td><td>...</td><td>...</td><td>...</td><td>...</td><td>...</td><td>...</td><td>...</td></tr>\n",
       "<tr><td>122.2839</td><td>46.3238</td><td>z0.65627_NIV</td><td>7</td><td>4</td><td>0.0</td><td>-38.55423569251285</td><td>38.554235692513856</td><td>NIV</td><td>1</td><td>13.74</td><td>0.07902860416089248 .. 0.07902860416089248</td><td>0.0</td><td>0.0</td><td>0.0</td><td>0.0</td><td></td><td>a</td><td>0.6562107040329883</td></tr>\n",
       "<tr><td>122.2839</td><td>46.3238</td><td>z0.65630_CIII</td><td>6</td><td>3</td><td>0.0</td><td>-37.73393280549469</td><td>37.7339328054707</td><td>CIII</td><td>1</td><td>13.34</td><td>0.19851087849288754 .. 0.19851087849288754</td><td>0.0</td><td>0.0</td><td>0.0</td><td>0.0</td><td></td><td>a</td><td>0.6562107040329883</td></tr>\n",
       "<tr><td>122.2839</td><td>46.3238</td><td>z0.65632_OIV</td><td>8</td><td>4</td><td>0.0</td><td>-33.63241837006188</td><td>33.63241837010605</td><td>OIV</td><td>1</td><td>14.51</td><td>0.01342098253791476 .. 0.01342098253791476</td><td>0.0</td><td>0.0</td><td>0.0</td><td>0.0</td><td></td><td>a</td><td>0.6562107040329883</td></tr>\n",
       "<tr><td>122.2839</td><td>46.3238</td><td>z0.65640_OVI</td><td>8</td><td>6</td><td>0.0</td><td>-105.81907243275296</td><td>105.81907243273868</td><td>OVI</td><td>1</td><td>15.37</td><td>0.0013099940209709377 .. 0.0013099940209709377</td><td>0.0</td><td>0.0</td><td>0.0</td><td>0.0</td><td></td><td>a</td><td>0.6562107040329883</td></tr>\n",
       "<tr><td>122.2839</td><td>46.3238</td><td>z0.65669_CIII</td><td>6</td><td>3</td><td>0.0</td><td>-41.83544724089951</td><td>41.83544724082065</td><td>CIII</td><td>1</td><td>13.89</td><td>0.05594796716146652 .. 0.05594796716146652</td><td>0.0</td><td>0.0</td><td>0.0</td><td>0.0</td><td></td><td>a</td><td>0.6562107040329883</td></tr>\n",
       "<tr><td>122.2839</td><td>46.3238</td><td>z0.65671_SVI</td><td>16</td><td>6</td><td>0.0</td><td>-40.194841466692694</td><td>40.19484146662189</td><td>SVI</td><td>1</td><td>13.18</td><td>0.20289405103557717 .. 0.20289405103557717</td><td>0.0</td><td>0.0</td><td>0.0</td><td>0.0</td><td></td><td>a</td><td>0.6562107040329883</td></tr>\n",
       "<tr><td>122.2839</td><td>46.3238</td><td>z0.65672_HI</td><td>1</td><td>1</td><td>0.0</td><td>-52.49938477284659</td><td>52.49938477280138</td><td>HI</td><td>1</td><td>14.74</td><td>0.0027940830954937238 .. 0.0027940830954937238</td><td>0.0</td><td>0.0</td><td>0.0</td><td>0.0</td><td></td><td>a</td><td>0.6562107040329883</td></tr>\n",
       "<tr><td>122.2839</td><td>46.3238</td><td>z0.65675_OIV</td><td>8</td><td>4</td><td>0.0</td><td>-45.93696167621099</td><td>45.93696167622205</td><td>OIV</td><td>1</td><td>14.49</td><td>0.014053493958343146 .. 0.014053493958343146</td><td>0.0</td><td>0.0</td><td>0.0</td><td>0.0</td><td></td><td>a</td><td>0.6562107040329883</td></tr>\n",
       "<tr><td>122.2839</td><td>46.3238</td><td>z0.65677_NIV</td><td>7</td><td>4</td><td>0.0</td><td>-59.06180786947855</td><td>59.061807869444934</td><td>NIV</td><td>1</td><td>13.79</td><td>0.07043431759779603 .. 0.07043431759779603</td><td>0.0</td><td>0.0</td><td>0.0</td><td>0.0</td><td></td><td>a</td><td>0.6562107040329883</td></tr>\n",
       "<tr><td>122.2839</td><td>46.3238</td><td>z0.65763_HI</td><td>1</td><td>1</td><td>0.0</td><td>-50.85877899865633</td><td>50.858778998647395</td><td>HI</td><td>1</td><td>13.63</td><td>0.07198952590326298 .. 0.07198952590326298</td><td>0.0</td><td>0.0</td><td>0.0</td><td>0.0</td><td></td><td>b</td><td>0.657625273920309</td></tr>\n",
       "</table>"
      ],
      "text/plain": [
       "<Table length=123>\n",
       "   RA      DEC      comp_name    ... reliability          z_sys         \n",
       "  deg      deg                   ...                                    \n",
       "float64  float64      str15      ...     str1            float64        \n",
       "-------- ------- --------------- ... ----------- -----------------------\n",
       "122.2839 46.3238    z-0.00023_OI ...           a -0.00023045480505031152\n",
       "122.2839 46.3238 z-0.00018_SiIII ...           a -0.00023045480505031152\n",
       "122.2839 46.3238   z-0.00015_CII ...           a -0.00023045480505031152\n",
       "122.2839 46.3238  z-0.00013_FeII ...           a -0.00023045480505031152\n",
       "122.2839 46.3238  z-0.00013_SiIV ...           a -0.00023045480505031152\n",
       "122.2839 46.3238   z-0.00010_CIV ...           a -0.00023045480505031152\n",
       "122.2839 46.3238  z-0.00010_SiII ...           a -0.00023045480505031152\n",
       "122.2839 46.3238   z-0.00008_SII ...           a -0.00023045480505031152\n",
       "122.2839 46.3238  z-0.00007_AlII ...           a -0.00023045480505031152\n",
       "     ...     ...             ... ...         ...                     ...\n",
       "122.2839 46.3238    z0.65627_NIV ...           a      0.6562107040329883\n",
       "122.2839 46.3238   z0.65630_CIII ...           a      0.6562107040329883\n",
       "122.2839 46.3238    z0.65632_OIV ...           a      0.6562107040329883\n",
       "122.2839 46.3238    z0.65640_OVI ...           a      0.6562107040329883\n",
       "122.2839 46.3238   z0.65669_CIII ...           a      0.6562107040329883\n",
       "122.2839 46.3238    z0.65671_SVI ...           a      0.6562107040329883\n",
       "122.2839 46.3238     z0.65672_HI ...           a      0.6562107040329883\n",
       "122.2839 46.3238    z0.65675_OIV ...           a      0.6562107040329883\n",
       "122.2839 46.3238    z0.65677_NIV ...           a      0.6562107040329883\n",
       "122.2839 46.3238     z0.65763_HI ...           b       0.657625273920309"
      ]
     },
     "execution_count": 7,
     "metadata": {},
     "output_type": "execute_result"
    }
   ],
   "source": [
    "group_by_z = abssysTable.group_by('z_sys')\n",
    "group_by_z"
   ]
  },
  {
   "cell_type": "code",
   "execution_count": 8,
   "metadata": {},
   "outputs": [
    {
     "name": "stdout",
     "output_type": "stream",
     "text": [
      "ion_name  logN          z_sys         \n",
      "-------- ----- -----------------------\n",
      "      OI 14.64 -0.00023045480505031152\n",
      "   SiIII 14.11 -0.00023045480505031152\n",
      "     CII 15.77 -0.00023045480505031152\n",
      "    FeII 15.04 -0.00023045480505031152\n",
      "    SiIV 13.51 -0.00023045480505031152\n",
      "     CIV 14.06 -0.00023045480505031152\n",
      "    SiII 14.98 -0.00023045480505031152\n",
      "     SII 15.51 -0.00023045480505031152\n",
      "    AlII 14.08 -0.00023045480505031152\n",
      "      NI 14.78 -0.00023045480505031152\n",
      "     ...   ...                     ...\n",
      "      HI  14.6      0.6562107040329883\n",
      "     NIV 13.74      0.6562107040329883\n",
      "    CIII 13.34      0.6562107040329883\n",
      "     OIV 14.51      0.6562107040329883\n",
      "     OVI 15.37      0.6562107040329883\n",
      "    CIII 13.89      0.6562107040329883\n",
      "     SVI 13.18      0.6562107040329883\n",
      "      HI 14.74      0.6562107040329883\n",
      "     OIV 14.49      0.6562107040329883\n",
      "     NIV 13.79      0.6562107040329883\n",
      "      HI 13.63       0.657625273920309\n",
      "Length = 123 rows\n"
     ]
    }
   ],
   "source": [
    "print(abssysTable['ion_name', 'logN', 'z_sys'])"
   ]
  },
  {
   "cell_type": "code",
   "execution_count": null,
   "metadata": {},
   "outputs": [],
   "source": []
  },
  {
   "cell_type": "markdown",
   "metadata": {},
   "source": [
    "# or load it from cgmsquared"
   ]
  },
  {
   "cell_type": "code",
   "execution_count": 9,
   "metadata": {},
   "outputs": [],
   "source": [
    "import cgmsquared"
   ]
  },
  {
   "cell_type": "code",
   "execution_count": 10,
   "metadata": {},
   "outputs": [
    {
     "name": "stdout",
     "output_type": "stream",
     "text": [
      "Loading abundances from Asplund2009\n",
      "Abundances are relative by number on a logarithmic scale with H=12\n",
      "Loading abundances from Asplund2009\n",
      "Abundances are relative by number on a logarithmic scale with H=12\n",
      "AbsComp coordinates do not match.  Best to set them\n",
      "AbsComp coordinates do not match.  Best to set them\n",
      "AbsComp coordinates do not match.  Best to set them\n"
     ]
    },
    {
     "data": {
      "text/html": [
       "<i>Table length=123</i>\n",
       "<table id=\"table120851459320\" class=\"table-striped table-bordered table-condensed\">\n",
       "<thead><tr><th>RA</th><th>DEC</th><th>comp_name</th><th>Z</th><th>ion</th><th>Ej</th><th>vmin</th><th>vmax</th><th>ion_name</th><th>flag_N</th><th>logN</th><th>sig_logN [2]</th><th>b</th><th>sig_b</th><th>vel</th><th>sig_vel</th><th>comment</th><th>reliability</th><th>z_sys</th></tr></thead>\n",
       "<thead><tr><th>deg</th><th>deg</th><th></th><th></th><th></th><th>1 / cm</th><th>km / s</th><th>km / s</th><th></th><th></th><th></th><th></th><th>km / s</th><th>km / s</th><th>km / s</th><th>km / s</th><th></th><th></th><th></th></tr></thead>\n",
       "<thead><tr><th>float64</th><th>float64</th><th>str15</th><th>int64</th><th>int64</th><th>float64</th><th>float64</th><th>float64</th><th>str5</th><th>int64</th><th>float64</th><th>float64</th><th>float64</th><th>float64</th><th>float64</th><th>float64</th><th>str51</th><th>str1</th><th>float64</th></tr></thead>\n",
       "<tr><td>122.2839</td><td>46.3238</td><td>z-0.00023_OI</td><td>8</td><td>1</td><td>0.0</td><td>-42.65575012791966</td><td>42.65575012791082</td><td>OI</td><td>1</td><td>14.64</td><td>0.009949111803676972 .. 0.009949111803676972</td><td>0.0</td><td>0.0</td><td>0.0</td><td>0.0</td><td></td><td>a</td><td>-0.00023045480505031152</td></tr>\n",
       "<tr><td>122.2839</td><td>46.3238</td><td>z-0.00018_SiIII</td><td>14</td><td>3</td><td>0.0</td><td>-127.14694749670068</td><td>127.14694749607868</td><td>SiIII</td><td>1</td><td>14.11</td><td>0.03371198393451511 .. 0.03371198393451511</td><td>0.0</td><td>0.0</td><td>0.0</td><td>0.0</td><td></td><td>a</td><td>-0.00023045480505031152</td></tr>\n",
       "<tr><td>122.2839</td><td>46.3238</td><td>z-0.00015_CII</td><td>6</td><td>2</td><td>0.0</td><td>-123.8657359484213</td><td>123.86573594784647</td><td>CII</td><td>1</td><td>15.77</td><td>0.00073753784719136 .. 0.00073753784719136</td><td>0.0</td><td>0.0</td><td>0.0</td><td>0.0</td><td></td><td>a</td><td>-0.00023045480505031152</td></tr>\n",
       "<tr><td>122.2839</td><td>46.3238</td><td>z-0.00013_FeII</td><td>26</td><td>2</td><td>0.0</td><td>-92.69422623981966</td><td>92.69422623956984</td><td>FeII</td><td>1</td><td>15.04</td><td>0.0016169950339052527 .. 0.0016169950339052527</td><td>0.0</td><td>0.0</td><td>0.0</td><td>0.0</td><td></td><td>a</td><td>-0.00023045480505031152</td></tr>\n",
       "<tr><td>122.2839</td><td>46.3238</td><td>z-0.00013_SiIV</td><td>14</td><td>4</td><td>0.0</td><td>-77.9287742722147</td><td>77.92877427211964</td><td>SiIV</td><td>1</td><td>13.51</td><td>0.09490067762745767 .. 0.09490067762745767</td><td>0.0</td><td>0.0</td><td>0.0</td><td>0.0</td><td></td><td>a</td><td>-0.00023045480505031152</td></tr>\n",
       "<tr><td>122.2839</td><td>46.3238</td><td>z-0.00010_CIV</td><td>6</td><td>4</td><td>0.0</td><td>-80.38968293335732</td><td>80.38968293342103</td><td>CIV</td><td>1</td><td>14.06</td><td>0.026746644999065664 .. 0.026746644999065664</td><td>0.0</td><td>0.0</td><td>0.0</td><td>0.0</td><td></td><td>a</td><td>-0.00023045480505031152</td></tr>\n",
       "<tr><td>122.2839</td><td>46.3238</td><td>z-0.00010_SiII</td><td>14</td><td>2</td><td>0.0</td><td>-117.30331285181728</td><td>117.30331285181211</td><td>SiII</td><td>1</td><td>14.98</td><td>0.002033758163159027 .. 0.002033758163159027</td><td>0.0</td><td>0.0</td><td>0.0</td><td>0.0</td><td></td><td>a</td><td>-0.00023045480505031152</td></tr>\n",
       "<tr><td>122.2839</td><td>46.3238</td><td>z-0.00008_SII</td><td>16</td><td>2</td><td>0.0</td><td>-70.54604828849811</td><td>70.54604828849995</td><td>SII</td><td>1</td><td>15.51</td><td>0.0007748607881054352 .. 0.0007748607881054352</td><td>0.0</td><td>0.0</td><td>0.0</td><td>0.0</td><td></td><td>a</td><td>-0.00023045480505031152</td></tr>\n",
       "<tr><td>122.2839</td><td>46.3238</td><td>z-0.00007_AlII</td><td>13</td><td>2</td><td>0.0</td><td>-95.15513490077376</td><td>95.15513490073388</td><td>AlII</td><td>1</td><td>14.08</td><td>0.03612304160369293 .. 0.03612304160369293</td><td>0.0</td><td>0.0</td><td>0.0</td><td>0.0</td><td>AlII  and blend</td><td>a</td><td>-0.00023045480505031152</td></tr>\n",
       "<tr><td>...</td><td>...</td><td>...</td><td>...</td><td>...</td><td>...</td><td>...</td><td>...</td><td>...</td><td>...</td><td>...</td><td>...</td><td>...</td><td>...</td><td>...</td><td>...</td><td>...</td><td>...</td><td>...</td></tr>\n",
       "<tr><td>122.2839</td><td>46.3238</td><td>z0.65627_NIV</td><td>7</td><td>4</td><td>0.0</td><td>-38.55423569251285</td><td>38.554235692513856</td><td>NIV</td><td>1</td><td>13.74</td><td>0.07902860416089248 .. 0.07902860416089248</td><td>0.0</td><td>0.0</td><td>0.0</td><td>0.0</td><td></td><td>a</td><td>0.6562107040329883</td></tr>\n",
       "<tr><td>122.2839</td><td>46.3238</td><td>z0.65630_CIII</td><td>6</td><td>3</td><td>0.0</td><td>-37.73393280549469</td><td>37.7339328054707</td><td>CIII</td><td>1</td><td>13.34</td><td>0.19851087849288754 .. 0.19851087849288754</td><td>0.0</td><td>0.0</td><td>0.0</td><td>0.0</td><td></td><td>a</td><td>0.6562107040329883</td></tr>\n",
       "<tr><td>122.2839</td><td>46.3238</td><td>z0.65632_OIV</td><td>8</td><td>4</td><td>0.0</td><td>-33.63241837006188</td><td>33.63241837010605</td><td>OIV</td><td>1</td><td>14.51</td><td>0.01342098253791476 .. 0.01342098253791476</td><td>0.0</td><td>0.0</td><td>0.0</td><td>0.0</td><td></td><td>a</td><td>0.6562107040329883</td></tr>\n",
       "<tr><td>122.2839</td><td>46.3238</td><td>z0.65640_OVI</td><td>8</td><td>6</td><td>0.0</td><td>-105.81907243275296</td><td>105.81907243273868</td><td>OVI</td><td>1</td><td>15.37</td><td>0.0013099940209709377 .. 0.0013099940209709377</td><td>0.0</td><td>0.0</td><td>0.0</td><td>0.0</td><td></td><td>a</td><td>0.6562107040329883</td></tr>\n",
       "<tr><td>122.2839</td><td>46.3238</td><td>z0.65669_CIII</td><td>6</td><td>3</td><td>0.0</td><td>-41.83544724089951</td><td>41.83544724082065</td><td>CIII</td><td>1</td><td>13.89</td><td>0.05594796716146652 .. 0.05594796716146652</td><td>0.0</td><td>0.0</td><td>0.0</td><td>0.0</td><td></td><td>a</td><td>0.6562107040329883</td></tr>\n",
       "<tr><td>122.2839</td><td>46.3238</td><td>z0.65671_SVI</td><td>16</td><td>6</td><td>0.0</td><td>-40.194841466692694</td><td>40.19484146662189</td><td>SVI</td><td>1</td><td>13.18</td><td>0.20289405103557717 .. 0.20289405103557717</td><td>0.0</td><td>0.0</td><td>0.0</td><td>0.0</td><td></td><td>a</td><td>0.6562107040329883</td></tr>\n",
       "<tr><td>122.2839</td><td>46.3238</td><td>z0.65672_HI</td><td>1</td><td>1</td><td>0.0</td><td>-52.49938477284659</td><td>52.49938477280138</td><td>HI</td><td>1</td><td>14.74</td><td>0.0027940830954937238 .. 0.0027940830954937238</td><td>0.0</td><td>0.0</td><td>0.0</td><td>0.0</td><td></td><td>a</td><td>0.6562107040329883</td></tr>\n",
       "<tr><td>122.2839</td><td>46.3238</td><td>z0.65675_OIV</td><td>8</td><td>4</td><td>0.0</td><td>-45.93696167621099</td><td>45.93696167622205</td><td>OIV</td><td>1</td><td>14.49</td><td>0.014053493958343146 .. 0.014053493958343146</td><td>0.0</td><td>0.0</td><td>0.0</td><td>0.0</td><td></td><td>a</td><td>0.6562107040329883</td></tr>\n",
       "<tr><td>122.2839</td><td>46.3238</td><td>z0.65677_NIV</td><td>7</td><td>4</td><td>0.0</td><td>-59.06180786947855</td><td>59.061807869444934</td><td>NIV</td><td>1</td><td>13.79</td><td>0.07043431759779603 .. 0.07043431759779603</td><td>0.0</td><td>0.0</td><td>0.0</td><td>0.0</td><td></td><td>a</td><td>0.6562107040329883</td></tr>\n",
       "<tr><td>122.2839</td><td>46.3238</td><td>z0.65763_HI</td><td>1</td><td>1</td><td>0.0</td><td>-50.85877899865633</td><td>50.858778998647395</td><td>HI</td><td>1</td><td>13.63</td><td>0.07198952590326298 .. 0.07198952590326298</td><td>0.0</td><td>0.0</td><td>0.0</td><td>0.0</td><td></td><td>b</td><td>0.657625273920309</td></tr>\n",
       "</table>"
      ],
      "text/plain": [
       "<Table length=123>\n",
       "   RA      DEC      comp_name    ... reliability          z_sys         \n",
       "  deg      deg                   ...                                    \n",
       "float64  float64      str15      ...     str1            float64        \n",
       "-------- ------- --------------- ... ----------- -----------------------\n",
       "122.2839 46.3238    z-0.00023_OI ...           a -0.00023045480505031152\n",
       "122.2839 46.3238 z-0.00018_SiIII ...           a -0.00023045480505031152\n",
       "122.2839 46.3238   z-0.00015_CII ...           a -0.00023045480505031152\n",
       "122.2839 46.3238  z-0.00013_FeII ...           a -0.00023045480505031152\n",
       "122.2839 46.3238  z-0.00013_SiIV ...           a -0.00023045480505031152\n",
       "122.2839 46.3238   z-0.00010_CIV ...           a -0.00023045480505031152\n",
       "122.2839 46.3238  z-0.00010_SiII ...           a -0.00023045480505031152\n",
       "122.2839 46.3238   z-0.00008_SII ...           a -0.00023045480505031152\n",
       "122.2839 46.3238  z-0.00007_AlII ...           a -0.00023045480505031152\n",
       "     ...     ...             ... ...         ...                     ...\n",
       "122.2839 46.3238    z0.65627_NIV ...           a      0.6562107040329883\n",
       "122.2839 46.3238   z0.65630_CIII ...           a      0.6562107040329883\n",
       "122.2839 46.3238    z0.65632_OIV ...           a      0.6562107040329883\n",
       "122.2839 46.3238    z0.65640_OVI ...           a      0.6562107040329883\n",
       "122.2839 46.3238   z0.65669_CIII ...           a      0.6562107040329883\n",
       "122.2839 46.3238    z0.65671_SVI ...           a      0.6562107040329883\n",
       "122.2839 46.3238     z0.65672_HI ...           a      0.6562107040329883\n",
       "122.2839 46.3238    z0.65675_OIV ...           a      0.6562107040329883\n",
       "122.2839 46.3238    z0.65677_NIV ...           a      0.6562107040329883\n",
       "122.2839 46.3238     z0.65763_HI ...           b       0.657625273920309"
      ]
     },
     "execution_count": 10,
     "metadata": {},
     "output_type": "execute_result"
    }
   ],
   "source": [
    "cgmsquared.utils.make_abssys_table(data_path+abs_file)"
   ]
  },
  {
   "cell_type": "code",
   "execution_count": null,
   "metadata": {},
   "outputs": [],
   "source": []
  }
 ],
 "metadata": {
  "kernelspec": {
   "display_name": "Python 3",
   "language": "python",
   "name": "python3"
  },
  "language_info": {
   "codemirror_mode": {
    "name": "ipython",
    "version": 3
   },
   "file_extension": ".py",
   "mimetype": "text/x-python",
   "name": "python",
   "nbconvert_exporter": "python",
   "pygments_lexer": "ipython3",
   "version": "3.6.6"
  }
 },
 "nbformat": 4,
 "nbformat_minor": 2
}
