{
 "cells": [
  {
   "cell_type": "code",
   "execution_count": 1,
   "metadata": {},
   "outputs": [],
   "source": [
    "from astropy.io import fits\n",
    "from astropy.table import Table\n",
    "import glob\n",
    "import numpy as np"
   ]
  },
  {
   "cell_type": "markdown",
   "metadata": {},
   "source": [
    "# Check if the ODF matches the downloaded mask, or each other\n",
    "\n",
    "* it became apparent that some masks were accidentally copies of another mask in the same field"
   ]
  },
  {
   "cell_type": "code",
   "execution_count": 2,
   "metadata": {},
   "outputs": [],
   "source": [
    "file = '/Users/mwilde/Dropbox/COS-Gemini/ODF_files/GN2014BLP003-09_ODF.fits'\n",
    "odf8 = '/Users/mwilde/Dropbox/COS-Gemini/ODF_files/GN2014BLP003-08_ODF.fits'\n",
    "# archive_file = '/Users/mwilde/Dropbox/COS-Gemini/gemini_data.GN-2014B-LP-3/reduced_data/J1059+1441/mask_09/GN2014BLP003-09.fits'\n",
    "archive_file = '/Users/mwilde/Dropbox/COS-Gemini/gemini_data.GN-2014B-LP-3/reduced_data/J1059+1441/mask_08/GN2014BLP003-08.fits'\n",
    "\n",
    "\n",
    "hdu = fits.open(file)\n",
    "hdu_archive = fits.open(archive_file)\n",
    "hdu_mask8 = fits.open(odf8)\n",
    "\n",
    "data_odf = Table(hdu[1].data)\n",
    "data8_odf = Table(hdu_mask8[1].data)\n",
    "data_archive = Table(hdu_archive[1].data)\n",
    "\n"
   ]
  },
  {
   "cell_type": "code",
   "execution_count": 3,
   "metadata": {},
   "outputs": [
    {
     "data": {
      "text/html": [
       "<i>Table length=5</i>\n",
       "<table id=\"table4493224312\" class=\"table-striped table-bordered table-condensed\">\n",
       "<thead><tr><th>ID</th><th>RA</th><th>DEC</th><th>x_ccd</th><th>y_ccd</th><th>specpos_x</th><th>specpos_y</th><th>slitpos_x</th><th>slitpos_y</th><th>slitsize_x</th><th>slitsize_y</th><th>slittilt</th><th>MAG</th><th>priority</th><th>slittype</th><th>wave_ccd</th></tr></thead>\n",
       "<thead><tr><th>int32</th><th>float32</th><th>float32</th><th>float32</th><th>float32</th><th>float32</th><th>float32</th><th>float32</th><th>float32</th><th>float32</th><th>float32</th><th>float32</th><th>float32</th><th>str1</th><th>str1</th><th>float32</th></tr></thead>\n",
       "<tr><td>63</td><td>10.996139</td><td>14.65158</td><td>3281.0442</td><td>145.82169</td><td>-409.6355</td><td>0.0</td><td>0.0</td><td>0.0</td><td>1.0</td><td>5.0</td><td>0.0</td><td>22.936066</td><td>2</td><td>R</td><td>3258.7341</td></tr>\n",
       "<tr><td>82</td><td>10.994328</td><td>14.65326</td><td>1983.6847</td><td>228.79662</td><td>321.12537</td><td>0.0</td><td>0.0</td><td>0.0</td><td>1.0</td><td>5.0</td><td>0.0</td><td>23.218695</td><td>2</td><td>R</td><td>2125.537</td></tr>\n",
       "<tr><td>118</td><td>10.994723</td><td>14.65567</td><td>2267.3162</td><td>347.8074</td><td>161.3645</td><td>0.0</td><td>0.0</td><td>0.0</td><td>1.0</td><td>5.0</td><td>0.0</td><td>21.11602</td><td>2</td><td>R</td><td>2373.2788</td></tr>\n",
       "<tr><td>160</td><td>10.995303</td><td>14.65722</td><td>2682.9849</td><td>424.65918</td><td>-72.76831</td><td>0.0</td><td>0.0</td><td>0.0</td><td>1.0</td><td>5.0</td><td>0.0</td><td>23.062918</td><td>2</td><td>R</td><td>2736.3506</td></tr>\n",
       "<tr><td>175</td><td>10.998474</td><td>14.65882</td><td>4955.3457</td><td>503.0845</td><td>-1850.6162</td><td>0.0</td><td>0.0</td><td>0.0</td><td>1.0</td><td>5.0</td><td>0.0</td><td>21.11772</td><td>2</td><td>R</td><td>4721.1763</td></tr>\n",
       "</table>"
      ],
      "text/plain": [
       "<Table length=5>\n",
       "  ID      RA      DEC      x_ccd   ...    MAG    priority slittype  wave_ccd\n",
       "int32  float32  float32   float32  ...  float32    str1     str1    float32 \n",
       "----- --------- -------- --------- ... --------- -------- -------- ---------\n",
       "   63 10.996139 14.65158 3281.0442 ... 22.936066        2        R 3258.7341\n",
       "   82 10.994328 14.65326 1983.6847 ... 23.218695        2        R  2125.537\n",
       "  118 10.994723 14.65567 2267.3162 ...  21.11602        2        R 2373.2788\n",
       "  160 10.995303 14.65722 2682.9849 ... 23.062918        2        R 2736.3506\n",
       "  175 10.998474 14.65882 4955.3457 ...  21.11772        2        R 4721.1763"
      ]
     },
     "execution_count": 3,
     "metadata": {},
     "output_type": "execute_result"
    }
   ],
   "source": [
    "data_odf[:5]"
   ]
  },
  {
   "cell_type": "code",
   "execution_count": 4,
   "metadata": {},
   "outputs": [
    {
     "data": {
      "text/html": [
       "<i>Table length=5</i>\n",
       "<table id=\"table4492538936\" class=\"table-striped table-bordered table-condensed\">\n",
       "<thead><tr><th>ID</th><th>RA</th><th>DEC</th><th>x_ccd</th><th>y_ccd</th><th>specpos_x</th><th>specpos_y</th><th>slitpos_x</th><th>slitpos_y</th><th>slitsize_x</th><th>slitsize_y</th><th>slittilt</th><th>MAG</th><th>priority</th><th>wave_ccd</th><th>slitpos_mx</th><th>slitpos_my</th><th>slitid</th><th>slitsize_mx</th><th>slitsize_my</th><th>slittilt_m</th><th>slitsize_mr</th><th>slitsize_mw</th><th>slittype</th></tr></thead>\n",
       "<thead><tr><th>int32</th><th>float32</th><th>float32</th><th>float32</th><th>float32</th><th>float32</th><th>float32</th><th>float32</th><th>float32</th><th>float32</th><th>float32</th><th>float32</th><th>float32</th><th>str1</th><th>float32</th><th>float32</th><th>float32</th><th>int32</th><th>float32</th><th>float32</th><th>float32</th><th>float32</th><th>float32</th><th>str9</th></tr></thead>\n",
       "<tr><td>63</td><td>10.996139</td><td>14.65158</td><td>3281.0442</td><td>145.82169</td><td>-409.6355</td><td>0.0</td><td>0.0</td><td>0.0</td><td>1.0</td><td>5.0</td><td>0.0</td><td>22.936066</td><td>2</td><td>3258.7341</td><td>7.647604</td><td>-96.83718</td><td>1</td><td>0.62056154</td><td>3.1028075</td><td>90.0</td><td>0.0</td><td>0.0</td><td>rectangle</td></tr>\n",
       "<tr><td>82</td><td>10.994328</td><td>14.65326</td><td>1983.6847</td><td>228.79662</td><td>321.12537</td><td>0.0</td><td>0.0</td><td>0.0</td><td>1.0</td><td>5.0</td><td>0.0</td><td>23.218695</td><td>2</td><td>2125.537</td><td>-51.02446</td><td>-92.9794</td><td>2</td><td>0.62056154</td><td>3.1028075</td><td>90.0</td><td>0.0</td><td>0.0</td><td>rectangle</td></tr>\n",
       "<tr><td>118</td><td>10.994723</td><td>14.65567</td><td>2267.3162</td><td>347.8074</td><td>161.3645</td><td>0.0</td><td>0.0</td><td>0.0</td><td>1.0</td><td>5.0</td><td>0.0</td><td>21.11602</td><td>2</td><td>2373.2788</td><td>-38.21383</td><td>-87.64365</td><td>3</td><td>0.62056154</td><td>3.1028075</td><td>90.0</td><td>0.0</td><td>0.0</td><td>rectangle</td></tr>\n",
       "<tr><td>160</td><td>10.995303</td><td>14.65722</td><td>2682.9849</td><td>424.65918</td><td>-72.76831</td><td>0.0</td><td>0.0</td><td>0.0</td><td>1.0</td><td>5.0</td><td>0.0</td><td>23.062918</td><td>2</td><td>2736.3506</td><td>-19.41663</td><td>-84.21887</td><td>4</td><td>0.62056154</td><td>3.1028075</td><td>90.0</td><td>0.0</td><td>0.0</td><td>rectangle</td></tr>\n",
       "<tr><td>175</td><td>10.998474</td><td>14.65882</td><td>4955.3457</td><td>503.0845</td><td>-1850.6162</td><td>0.0</td><td>0.0</td><td>0.0</td><td>1.0</td><td>5.0</td><td>0.0</td><td>21.11772</td><td>2</td><td>4721.1763</td><td>83.37048</td><td>-80.4566</td><td>5</td><td>0.62056154</td><td>3.1028075</td><td>90.0</td><td>0.0</td><td>0.0</td><td>rectangle</td></tr>\n",
       "</table>"
      ],
      "text/plain": [
       "<Table length=5>\n",
       "  ID      RA      DEC      x_ccd   ... slitsize_mr slitsize_mw  slittype\n",
       "int32  float32  float32   float32  ...   float32     float32      str9  \n",
       "----- --------- -------- --------- ... ----------- ----------- ---------\n",
       "   63 10.996139 14.65158 3281.0442 ...         0.0         0.0 rectangle\n",
       "   82 10.994328 14.65326 1983.6847 ...         0.0         0.0 rectangle\n",
       "  118 10.994723 14.65567 2267.3162 ...         0.0         0.0 rectangle\n",
       "  160 10.995303 14.65722 2682.9849 ...         0.0         0.0 rectangle\n",
       "  175 10.998474 14.65882 4955.3457 ...         0.0         0.0 rectangle"
      ]
     },
     "execution_count": 4,
     "metadata": {},
     "output_type": "execute_result"
    }
   ],
   "source": [
    "data_archive[:5]"
   ]
  },
  {
   "cell_type": "code",
   "execution_count": 5,
   "metadata": {},
   "outputs": [
    {
     "data": {
      "text/plain": [
       "array([ True,  True,  True,  True,  True])"
      ]
     },
     "execution_count": 5,
     "metadata": {},
     "output_type": "execute_result"
    }
   ],
   "source": [
    "data_odf['y_ccd'][:5] == data8_odf['y_ccd'][:5]"
   ]
  },
  {
   "cell_type": "code",
   "execution_count": 6,
   "metadata": {},
   "outputs": [
    {
     "data": {
      "text/plain": [
       "array([ True,  True,  True,  True,  True])"
      ]
     },
     "execution_count": 6,
     "metadata": {},
     "output_type": "execute_result"
    }
   ],
   "source": [
    "data_odf['y_ccd'][:5] == data_archive['y_ccd'][:5]"
   ]
  },
  {
   "cell_type": "code",
   "execution_count": 7,
   "metadata": {},
   "outputs": [
    {
     "data": {
      "text/plain": [
       "True"
      ]
     },
     "execution_count": 7,
     "metadata": {},
     "output_type": "execute_result"
    }
   ],
   "source": [
    "all(data_archive['y_ccd'][:5] == data8_odf['y_ccd'][:5])"
   ]
  },
  {
   "cell_type": "code",
   "execution_count": 8,
   "metadata": {},
   "outputs": [
    {
     "data": {
      "text/html": [
       "<i>Table length=5</i>\n",
       "<table id=\"table4493224144\" class=\"table-striped table-bordered table-condensed\">\n",
       "<thead><tr><th>ID</th><th>RA</th><th>DEC</th><th>x_ccd</th><th>y_ccd</th><th>specpos_x</th><th>specpos_y</th><th>slitpos_x</th><th>slitpos_y</th><th>slitsize_x</th><th>slitsize_y</th><th>slittilt</th><th>MAG</th><th>priority</th><th>slittype</th><th>wave_ccd</th></tr></thead>\n",
       "<thead><tr><th>int32</th><th>float32</th><th>float32</th><th>float32</th><th>float32</th><th>float32</th><th>float32</th><th>float32</th><th>float32</th><th>float32</th><th>float32</th><th>float32</th><th>float32</th><th>str1</th><th>str1</th><th>float32</th></tr></thead>\n",
       "<tr><td>63</td><td>10.996139</td><td>14.65158</td><td>3281.0442</td><td>145.82169</td><td>-409.6355</td><td>0.0</td><td>0.0</td><td>0.0</td><td>1.0</td><td>5.0</td><td>0.0</td><td>22.936066</td><td>2</td><td>R</td><td>3258.7341</td></tr>\n",
       "<tr><td>82</td><td>10.994328</td><td>14.65326</td><td>1983.6847</td><td>228.79662</td><td>321.12537</td><td>0.0</td><td>0.0</td><td>0.0</td><td>1.0</td><td>5.0</td><td>0.0</td><td>23.218695</td><td>2</td><td>R</td><td>2125.537</td></tr>\n",
       "<tr><td>118</td><td>10.994723</td><td>14.65567</td><td>2267.3162</td><td>347.8074</td><td>161.3645</td><td>0.0</td><td>0.0</td><td>0.0</td><td>1.0</td><td>5.0</td><td>0.0</td><td>21.11602</td><td>2</td><td>R</td><td>2373.2788</td></tr>\n",
       "<tr><td>160</td><td>10.995303</td><td>14.65722</td><td>2682.9849</td><td>424.65918</td><td>-72.76831</td><td>0.0</td><td>0.0</td><td>0.0</td><td>1.0</td><td>5.0</td><td>0.0</td><td>23.062918</td><td>2</td><td>R</td><td>2736.3506</td></tr>\n",
       "<tr><td>175</td><td>10.998474</td><td>14.65882</td><td>4955.3457</td><td>503.0845</td><td>-1850.6162</td><td>0.0</td><td>0.0</td><td>0.0</td><td>1.0</td><td>5.0</td><td>0.0</td><td>21.11772</td><td>2</td><td>R</td><td>4721.1763</td></tr>\n",
       "</table>"
      ],
      "text/plain": [
       "<Table length=5>\n",
       "  ID      RA      DEC      x_ccd   ...    MAG    priority slittype  wave_ccd\n",
       "int32  float32  float32   float32  ...  float32    str1     str1    float32 \n",
       "----- --------- -------- --------- ... --------- -------- -------- ---------\n",
       "   63 10.996139 14.65158 3281.0442 ... 22.936066        2        R 3258.7341\n",
       "   82 10.994328 14.65326 1983.6847 ... 23.218695        2        R  2125.537\n",
       "  118 10.994723 14.65567 2267.3162 ...  21.11602        2        R 2373.2788\n",
       "  160 10.995303 14.65722 2682.9849 ... 23.062918        2        R 2736.3506\n",
       "  175 10.998474 14.65882 4955.3457 ...  21.11772        2        R 4721.1763"
      ]
     },
     "execution_count": 8,
     "metadata": {},
     "output_type": "execute_result"
    }
   ],
   "source": [
    "data8_odf[:5]"
   ]
  },
  {
   "cell_type": "code",
   "execution_count": 9,
   "metadata": {},
   "outputs": [
    {
     "data": {
      "text/html": [
       "<i>Table length=5</i>\n",
       "<table id=\"table34815787640\" class=\"table-striped table-bordered table-condensed\">\n",
       "<thead><tr><th>ID</th><th>RA</th><th>DEC</th><th>x_ccd</th><th>y_ccd</th><th>specpos_x</th><th>specpos_y</th><th>slitpos_x</th><th>slitpos_y</th><th>slitsize_x</th><th>slitsize_y</th><th>slittilt</th><th>MAG</th><th>priority</th><th>slittype</th><th>wave_ccd</th></tr></thead>\n",
       "<thead><tr><th>int32</th><th>float32</th><th>float32</th><th>float32</th><th>float32</th><th>float32</th><th>float32</th><th>float32</th><th>float32</th><th>float32</th><th>float32</th><th>float32</th><th>float32</th><th>str1</th><th>str1</th><th>float32</th></tr></thead>\n",
       "<tr><td>63</td><td>10.996139</td><td>14.65158</td><td>3281.0442</td><td>145.82169</td><td>-409.6355</td><td>0.0</td><td>0.0</td><td>0.0</td><td>1.0</td><td>5.0</td><td>0.0</td><td>22.936066</td><td>2</td><td>R</td><td>3258.7341</td></tr>\n",
       "<tr><td>82</td><td>10.994328</td><td>14.65326</td><td>1983.6847</td><td>228.79662</td><td>321.12537</td><td>0.0</td><td>0.0</td><td>0.0</td><td>1.0</td><td>5.0</td><td>0.0</td><td>23.218695</td><td>2</td><td>R</td><td>2125.537</td></tr>\n",
       "<tr><td>118</td><td>10.994723</td><td>14.65567</td><td>2267.3162</td><td>347.8074</td><td>161.3645</td><td>0.0</td><td>0.0</td><td>0.0</td><td>1.0</td><td>5.0</td><td>0.0</td><td>21.11602</td><td>2</td><td>R</td><td>2373.2788</td></tr>\n",
       "<tr><td>160</td><td>10.995303</td><td>14.65722</td><td>2682.9849</td><td>424.65918</td><td>-72.76831</td><td>0.0</td><td>0.0</td><td>0.0</td><td>1.0</td><td>5.0</td><td>0.0</td><td>23.062918</td><td>2</td><td>R</td><td>2736.3506</td></tr>\n",
       "<tr><td>175</td><td>10.998474</td><td>14.65882</td><td>4955.3457</td><td>503.0845</td><td>-1850.6162</td><td>0.0</td><td>0.0</td><td>0.0</td><td>1.0</td><td>5.0</td><td>0.0</td><td>21.11772</td><td>2</td><td>R</td><td>4721.1763</td></tr>\n",
       "</table>"
      ],
      "text/plain": [
       "<Table length=5>\n",
       "  ID      RA      DEC      x_ccd   ...    MAG    priority slittype  wave_ccd\n",
       "int32  float32  float32   float32  ...  float32    str1     str1    float32 \n",
       "----- --------- -------- --------- ... --------- -------- -------- ---------\n",
       "   63 10.996139 14.65158 3281.0442 ... 22.936066        2        R 3258.7341\n",
       "   82 10.994328 14.65326 1983.6847 ... 23.218695        2        R  2125.537\n",
       "  118 10.994723 14.65567 2267.3162 ...  21.11602        2        R 2373.2788\n",
       "  160 10.995303 14.65722 2682.9849 ... 23.062918        2        R 2736.3506\n",
       "  175 10.998474 14.65882 4955.3457 ...  21.11772        2        R 4721.1763"
      ]
     },
     "execution_count": 9,
     "metadata": {},
     "output_type": "execute_result"
    }
   ],
   "source": [
    "data_odf[:5]"
   ]
  },
  {
   "cell_type": "markdown",
   "metadata": {},
   "source": [
    "# How many are all the same?"
   ]
  },
  {
   "cell_type": "markdown",
   "metadata": {},
   "source": [
    "### Get all the masks from their `raw_data` repositories"
   ]
  },
  {
   "cell_type": "code",
   "execution_count": 10,
   "metadata": {},
   "outputs": [],
   "source": [
    "folders = glob.glob('/Users/mwilde/Dropbox/COS-Gemini/gemini_data.G*')\n",
    "files = []\n",
    "for fold in folders:\n",
    "    files += glob.glob(fold+'/raw_data/G*fits')"
   ]
  },
  {
   "cell_type": "code",
   "execution_count": 11,
   "metadata": {},
   "outputs": [
    {
     "name": "stdout",
     "output_type": "stream",
     "text": [
      "/Users/mwilde/Dropbox/COS-Gemini/gemini_data.GN-2014B-LP-3/raw_data/GN2014BLP003-08.fits /Users/mwilde/Dropbox/COS-Gemini/gemini_data.GN-2014B-LP-3/raw_data/GN2014BLP003-09.fits\n",
      "/Users/mwilde/Dropbox/COS-Gemini/gemini_data.GN-2014B-LP-3/raw_data/GN2014BLP003-08.fits /Users/mwilde/Dropbox/COS-Gemini/gemini_data.GN-2014B-LP-3/raw_data/GN2014BLP003-07.fits\n",
      "/Users/mwilde/Dropbox/COS-Gemini/gemini_data.GN-2014B-LP-3/raw_data/GN2014BLP003-09.fits /Users/mwilde/Dropbox/COS-Gemini/gemini_data.GN-2014B-LP-3/raw_data/GN2014BLP003-07.fits\n"
     ]
    }
   ],
   "source": [
    "duplicates = []\n",
    "for ii in range(len(files)):\n",
    "    for jj in range(ii+1,len(files)):\n",
    "        t1 = Table.read(files[ii])['RA']\n",
    "        t2 = Table.read(files[jj])['RA']\n",
    "        same = (np.isclose(t1[:10], t2[:10])).all()\n",
    "        if same:\n",
    "            string = \"{0} same as {1}\".format(files[ii][-20:], files[jj][-20:])\n",
    "            duplicates.append(string)\n",
    "            print(files[ii], files[jj])"
   ]
  },
  {
   "cell_type": "code",
   "execution_count": 12,
   "metadata": {},
   "outputs": [
    {
     "data": {
      "text/plain": [
       "['GN2014BLP003-08.fits same as GN2014BLP003-09.fits',\n",
       " 'GN2014BLP003-08.fits same as GN2014BLP003-07.fits',\n",
       " 'GN2014BLP003-09.fits same as GN2014BLP003-07.fits']"
      ]
     },
     "execution_count": 12,
     "metadata": {},
     "output_type": "execute_result"
    }
   ],
   "source": [
    "duplicates"
   ]
  },
  {
   "cell_type": "markdown",
   "metadata": {},
   "source": [
    "### Weirdly short masks..."
   ]
  },
  {
   "cell_type": "code",
   "execution_count": 13,
   "metadata": {},
   "outputs": [
    {
     "name": "stdout",
     "output_type": "stream",
     "text": [
      "/Users/mwilde/Dropbox/COS-Gemini/gemini_data.GN-2014A-Q-1/raw_data/GN2014AQ001-04.fits 21\n",
      "/Users/mwilde/Dropbox/COS-Gemini/gemini_data.GN-2014A-Q-1/raw_data/GN2014AQ001-08.fits 19\n",
      "/Users/mwilde/Dropbox/COS-Gemini/gemini_data.GS-2014A-Q-2/raw_data/GS2014AQ002-02.fits 13\n",
      "/Users/mwilde/Dropbox/COS-Gemini/gemini_data.GS-2014A-Q-2/raw_data/GS2014AQ002-04.fits 24\n",
      "/Users/mwilde/Dropbox/COS-Gemini/gemini_data.GS-2014A-Q-2/raw_data/GS2014AQ002-01.fits 23\n"
     ]
    }
   ],
   "source": [
    "for f in files:\n",
    "    length = len(Table.read(f)['RA'])\n",
    "    if length < 25:\n",
    "        print(f, length)"
   ]
  }
 ],
 "metadata": {
  "kernelspec": {
   "display_name": "Python 3",
   "language": "python",
   "name": "python3"
  },
  "language_info": {
   "codemirror_mode": {
    "name": "ipython",
    "version": 3
   },
   "file_extension": ".py",
   "mimetype": "text/x-python",
   "name": "python",
   "nbconvert_exporter": "python",
   "pygments_lexer": "ipython3",
   "version": "3.6.6"
  }
 },
 "nbformat": 4,
 "nbformat_minor": 2
}
